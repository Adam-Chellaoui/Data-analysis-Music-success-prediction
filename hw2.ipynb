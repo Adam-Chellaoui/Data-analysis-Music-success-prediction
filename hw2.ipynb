{
 "cells": [
  {
   "cell_type": "markdown",
   "metadata": {
    "pycharm": {
     "name": "#%% md\n"
    }
   },
   "source": [
    "# Homework 2 (HW2)\n",
    "\n",
    "---\n",
    "By the end of this homework we expect you to be able to:\n",
    "1. Preprocess data and make it amenable to statistical analysis and machine learning models;\n",
    "2. Train and test out-of-the-box machine learning models in Python;\n",
    "3. Carry out statistical hypothesis testing;\n",
    "4. Carry out simple multivariate regression analyses;\n",
    "5. Use techniques to control for covariates;\n",
    "\n",
    "---\n",
    "\n",
    "## Important Dates\n",
    "\n",
    "- Homework release: Fri 12 Nov 2021\n",
    "- **Homework due**: Fri 26 Nov 2021, 23:59\n",
    "- Grade release: Fri 03 Dec 2021\n",
    "\n",
    "---\n",
    "\n",
    "##  Some rules\n",
    "\n",
    "1. You are allowed to use any built-in Python library that comes with Anaconda. If you want to use an external library, \n",
    "you may do so, but must justify your choice.\n",
    "2. Make sure you use the `data` folder provided in the repository in read-only mode. (Or alternatively, be sure you \n",
    "don’t change any of the files.)\n",
    "3. Be sure to provide a textual description of your thought process, the assumptions you made, the solution you \n",
    "implemented, and explanations for your answers. A notebook that only has code cells will not suffice.\n",
    "4. For questions containing the **/Discuss:/** prefix, answer not with code, but with a textual explanation\n",
    " (**in markdown**).\n",
    "5. Back up any hypotheses and claims with data, since this is an important aspect of the course.\n",
    "6. Please write all your comments in English, and use meaningful variable names in your code. Your repo should have a \n",
    "single notebook (plus the required data files) in the *master/main* branch. If there are multiple notebooks present, \n",
    "we will **not grade** anything.\n",
    "7. We will **not run your notebook for you**! Rather, we will grade it as is, which means that only the results \n",
    "contained in your evaluated code cells will be considered, and we will not see the results in unevaluated code cells. \n",
    "Thus, be sure to hand in a **fully-run and evaluated notebook**. In order to check whether everything looks as intended, you can check the rendered notebook on the GitHub website once you have pushed your solution there.\n",
    "8. In continuation to the previous point, interactive plots, such as those generated using `plotly`, should be **strictly avoided**!\n",
    "9. Make sure to print results or dataframes that confirm you have properly addressed the task.\n",
    "\n",
    "---\n",
    "\n",
    "## Context\n",
    "\n",
    "Congratulations! You have just been hired as a data scientist at *Piccardi Music,* a promising new music label created by a mysterious Italian disc jockey \"*Signor Piccardi*\". The company hired you to carry out a variety of data-related tasks, which will be explained in further detail below.\n",
    "\n",
    "---\n",
    "\n",
    "## The data\n",
    "\n",
    "For this homework you will use a dataset of 18,403 music reviews scraped from Pitchfork¹, including relevant metadata such as review author, review date, record release year, review score, and genre, along with the respective album's audio features pulled from Spotify's API. The data consists of the following columns:\n",
    "\n",
    "| Column   | Description  |\n",
    "|----------|:-------------|\n",
    "| `artist`           | The name of the artist who created the album being reviewed. |\n",
    "| `album`            | The name of the album being reviewed. |\n",
    "| `recordlabel`      | The name of the record label(s) who published the album. |\n",
    "| `releaseyear`      | The year that the album was released. |\n",
    "| `score`            | The score given to the album by the reviewer on a scale of 0.0 to 10.0. |\n",
    "| `reviewauthor`     | The name of the author who reviewed the album. |\n",
    "| `genre`            | The genre assigned to the album by Pitchfork. |\n",
    "| `reviewdate`       | The date that the review was published.  |\n",
    "| `key` | The estimated overall musical key of the track. Integers map to pitches using standard Pitch Class notation (e.g., 0 = C, 2 = D, and so on) |\n",
    "| `acousticness` | A confidence measure from 0.0 to 1.0 of whether an album is acoustic. 1.0 represents high confidencethat the album is acoustic. |\n",
    "| `danceability` | How suitable an album is for dancing based on a combination of musical elements including tempo, rhythm stability, beat strength, and overall regularity. A value of 1.0 is most danceable.\n",
    "| `energy` | A perceptual measure of intensity and activity, from 0.0 to 1.0, where 1.0 represents high energy. Metal is often high energy. |\n",
    "| `instrumentalness` | Predicts whether an album contains no vocals, from 0.0 to 1.0. The closer to 1.0, the more likely the album contains no vocals. |\n",
    "| `liveness` | Detects the presence of an audience, from 0.0 to 1.0. Scores greater than 0.8 indicate a strong likelihood the album is live. |\n",
    "| `loudness` | The overall loudness of the album in decibels (dB). |\n",
    "| `speechiness` | Measures the presence of spoken words in an album on a scale from 0.0 to 1.0. Scores higher than 0.66 indicate an album made entirely of spoken words, while scores below 0.33 indicate music and other non-speech-like elements. |\n",
    "| `valence` | A measure from 0.0 to 1.0 describing the musical positiveness conveyed by an album, where values closer to 1.0 indicate more positive sounds. |\n",
    "| `tempo` | The overall estimated tempo of an album in beats per minute (BPM). |\n",
    "\n",
    "¹Pinter, Anthony T., et al. \"P4KxSpotify: A Dataset of Pitchfork Music Reviews and Spotify Musical Features.\" Proceedings of the International AAAI Conference on Web and Social Media. Vol. 14. 2020."
   ]
  },
  {
   "cell_type": "code",
   "execution_count": 1,
   "metadata": {},
   "outputs": [],
   "source": [
    "# CHANGE THIS IF YOU NEED/WANT TOO\n",
    "\n",
    "# pandas / numpy\n",
    "import pandas as pd\n",
    "import numpy as np\n",
    "\n",
    "# plotting\n",
    "import matplotlib.pyplot as plt\n",
    "import seaborn as sns\n",
    "\n",
    "# datetime operations\n",
    "from datetime import datetime\n",
    "\n",
    "# ttest and euclidean distance\n",
    "from scipy.stats import ttest_ind\n",
    "from scipy.spatial.distance import seuclidean\n",
    "from scipy.stats import normaltest\n",
    "\n",
    "# linear fit using statsmodels\n",
    "import statsmodels.api as sm\n",
    "import statsmodels.formula.api as smf\n",
    "\n",
    "# good ole sklearn\n",
    "from sklearn.metrics import euclidean_distances, r2_score\n",
    "from sklearn.linear_model import LinearRegression\n",
    "from sklearn.ensemble import GradientBoostingRegressor\n",
    "from sklearn import model_selection \n",
    "\n",
    "\n",
    "# displaying markdown strings\n",
    "from IPython.display import display, Markdown, Latex\n",
    "pd.options.mode.chained_assignment = None"
   ]
  },
  {
   "cell_type": "markdown",
   "metadata": {
    "pycharm": {
     "name": "#%% md\n"
    }
   },
   "source": [
    "## Part 1: Will this album be a hit?\n",
    "\n",
    "The first project you embark on in your new job is to build a regressor to predict whether an album will be well received or not. According to *Signor Piccardi* (your boss), this algorithm may eventually be helpful in forecasting the success of albums produced by *Piccardi Music*."
   ]
  },
  {
   "cell_type": "markdown",
   "metadata": {},
   "source": [
    "**Task 1 (Initial analyses — 10 pts)**\n",
    "\n",
    "As a good data scientist, the first thing you do is to have a good look at the data that was handed to you.\n",
    "\n",
    "1. Load the data using `pandas`. Identify and remove duplicate reviews, i.e., two reviews with albums by the same band with the same name (keep the first occurrence). Print the number of rows in your dataframe.\n",
    "\n",
    "2. Plot the distribution of album release years and the average score of albums per year.\n",
    "\n",
    "3. For numerical columns, calculate the mean, median, minimum value and maximum value. Additionally, plot the distribution for all the numerical columns in a single image (possibly with multiple subplots). Your image should be at most 14 inches wide by 14 inches long.\n",
    "\n",
    "3. For categorical columns, list how many different values there are in each column. If there are less than 10 distinct values for a category, print them all. For the `genre` column, assign the value `'Other'` for albums where the value is either `'none'` or `NaN`.\n",
    "\n",
    "5. **Discuss:** This dataset was built with *found data*—i.e., the Pitchfork reviews were not made with the goal of training a machine learning model. Grounded on the previous analyses and in Pitchfork's [Wikipedia page](https://en.wikipedia.org/wiki/Pitchfork_(website)), point **three** (exactly!) ways in which this data may not be representative of music albums in general due to the way the data was collected. \n",
    "\n",
    "---"
   ]
  },
  {
   "cell_type": "markdown",
   "metadata": {},
   "source": [
    "#### 1.1"
   ]
  },
  {
   "cell_type": "code",
   "execution_count": 2,
   "metadata": {},
   "outputs": [
    {
     "name": "stdout",
     "output_type": "stream",
     "text": [
      "length with duplicates: 16785\n",
      "length without duplicates: 16738\n"
     ]
    }
   ],
   "source": [
    "data_path =\"./data/pitchfork.csv.gz\"\n",
    "albums = pd.read_csv(data_path, compression=\"gzip\")\n",
    "print(f'length with duplicates: {len(albums):d}')\n",
    "albums.drop_duplicates(subset=['artist', 'album'], keep='first', inplace=True)\n",
    "print(f'length without duplicates: {len(albums):d}')"
   ]
  },
  {
   "cell_type": "markdown",
   "metadata": {},
   "source": [
    "#### 1.2"
   ]
  },
  {
   "cell_type": "code",
   "execution_count": 3,
   "metadata": {},
   "outputs": [
    {
     "data": {
      "image/png": "[encoded data removed]",
      "text/plain": [
       "<Figure size 864x360 with 2 Axes>"
      ]
     },
     "metadata": {
      "needs_background": "light"
     },
     "output_type": "display_data"
    }
   ],
   "source": [
    "fig, ax = plt.subplots(1, 2, figsize=(12,5))\n",
    "albums.hist(column=\"releaseyear\", ax=ax[0])\n",
    "\n",
    "avg_yearly_score = albums.groupby(by=\"releaseyear\").aggregate(func='mean')\n",
    "sns.lineplot(data= avg_yearly_score, x='releaseyear', y='score')\n",
    "ax[0].set_title('Album released per year')\n",
    "ax[1].set_title('Average score of albums per year')\n",
    "ax[0].set_xlabel('years')\n",
    "ax[0].set_ylabel('number of albums')\n",
    "plt.show()"
   ]
  },
  {
   "cell_type": "markdown",
   "metadata": {},
   "source": [
    "#### 1.3"
   ]
  },
  {
   "cell_type": "code",
   "execution_count": 4,
   "metadata": {},
   "outputs": [
    {
     "data": {
      "text/html": [
       "<div>\n",
       "<style scoped>\n",
       "    .dataframe tbody tr th:only-of-type {\n",
       "        vertical-align: middle;\n",
       "    }\n",
       "\n",
       "    .dataframe tbody tr th {\n",
       "        vertical-align: top;\n",
       "    }\n",
       "\n",
       "    .dataframe thead th {\n",
       "        text-align: right;\n",
       "    }\n",
       "</style>\n",
       "<table border=\"1\" class=\"dataframe\">\n",
       "  <thead>\n",
       "    <tr style=\"text-align: right;\">\n",
       "      <th></th>\n",
       "      <th>score</th>\n",
       "      <th>releaseyear</th>\n",
       "      <th>danceability</th>\n",
       "      <th>energy</th>\n",
       "      <th>key</th>\n",
       "      <th>loudness</th>\n",
       "      <th>speechiness</th>\n",
       "      <th>acousticness</th>\n",
       "      <th>instrumentalness</th>\n",
       "      <th>liveness</th>\n",
       "      <th>valence</th>\n",
       "      <th>tempo</th>\n",
       "    </tr>\n",
       "  </thead>\n",
       "  <tbody>\n",
       "    <tr>\n",
       "      <th>count</th>\n",
       "      <td>16738.000000</td>\n",
       "      <td>16738.000000</td>\n",
       "      <td>16738.000000</td>\n",
       "      <td>16738.000000</td>\n",
       "      <td>16738.000000</td>\n",
       "      <td>16738.000000</td>\n",
       "      <td>16738.000000</td>\n",
       "      <td>16738.000000</td>\n",
       "      <td>16738.000000</td>\n",
       "      <td>16738.000000</td>\n",
       "      <td>16738.000000</td>\n",
       "      <td>16738.000000</td>\n",
       "    </tr>\n",
       "    <tr>\n",
       "      <th>mean</th>\n",
       "      <td>7.048596</td>\n",
       "      <td>2009.346338</td>\n",
       "      <td>0.512334</td>\n",
       "      <td>0.601276</td>\n",
       "      <td>5.216501</td>\n",
       "      <td>-9.283268</td>\n",
       "      <td>0.090742</td>\n",
       "      <td>0.301914</td>\n",
       "      <td>0.274748</td>\n",
       "      <td>0.196402</td>\n",
       "      <td>0.405268</td>\n",
       "      <td>120.326487</td>\n",
       "    </tr>\n",
       "    <tr>\n",
       "      <th>std</th>\n",
       "      <td>1.247027</td>\n",
       "      <td>7.795465</td>\n",
       "      <td>0.158859</td>\n",
       "      <td>0.203196</td>\n",
       "      <td>1.613841</td>\n",
       "      <td>4.238371</td>\n",
       "      <td>0.090126</td>\n",
       "      <td>0.262392</td>\n",
       "      <td>0.298907</td>\n",
       "      <td>0.104933</td>\n",
       "      <td>0.182293</td>\n",
       "      <td>15.482320</td>\n",
       "    </tr>\n",
       "    <tr>\n",
       "      <th>min</th>\n",
       "      <td>0.000000</td>\n",
       "      <td>1957.000000</td>\n",
       "      <td>-1.000000</td>\n",
       "      <td>-1.000000</td>\n",
       "      <td>-1.000000</td>\n",
       "      <td>-51.728750</td>\n",
       "      <td>-1.000000</td>\n",
       "      <td>-1.000000</td>\n",
       "      <td>-1.000000</td>\n",
       "      <td>-1.000000</td>\n",
       "      <td>-1.000000</td>\n",
       "      <td>-1.000000</td>\n",
       "    </tr>\n",
       "    <tr>\n",
       "      <th>25%</th>\n",
       "      <td>6.500000</td>\n",
       "      <td>2005.000000</td>\n",
       "      <td>0.408900</td>\n",
       "      <td>0.474000</td>\n",
       "      <td>4.333333</td>\n",
       "      <td>-11.217535</td>\n",
       "      <td>0.040633</td>\n",
       "      <td>0.091104</td>\n",
       "      <td>0.009597</td>\n",
       "      <td>0.134517</td>\n",
       "      <td>0.274267</td>\n",
       "      <td>111.240000</td>\n",
       "    </tr>\n",
       "    <tr>\n",
       "      <th>50%</th>\n",
       "      <td>7.300000</td>\n",
       "      <td>2010.000000</td>\n",
       "      <td>0.511348</td>\n",
       "      <td>0.624722</td>\n",
       "      <td>5.230769</td>\n",
       "      <td>-8.444263</td>\n",
       "      <td>0.056665</td>\n",
       "      <td>0.228844</td>\n",
       "      <td>0.149363</td>\n",
       "      <td>0.174261</td>\n",
       "      <td>0.406288</td>\n",
       "      <td>120.397346</td>\n",
       "    </tr>\n",
       "    <tr>\n",
       "      <th>75%</th>\n",
       "      <td>7.800000</td>\n",
       "      <td>2015.000000</td>\n",
       "      <td>0.622625</td>\n",
       "      <td>0.749714</td>\n",
       "      <td>6.100000</td>\n",
       "      <td>-6.392496</td>\n",
       "      <td>0.100211</td>\n",
       "      <td>0.460500</td>\n",
       "      <td>0.497283</td>\n",
       "      <td>0.228338</td>\n",
       "      <td>0.531720</td>\n",
       "      <td>129.141008</td>\n",
       "    </tr>\n",
       "    <tr>\n",
       "      <th>max</th>\n",
       "      <td>10.000000</td>\n",
       "      <td>2019.000000</td>\n",
       "      <td>0.974000</td>\n",
       "      <td>0.999000</td>\n",
       "      <td>11.000000</td>\n",
       "      <td>4.078000</td>\n",
       "      <td>0.958000</td>\n",
       "      <td>0.996000</td>\n",
       "      <td>0.982000</td>\n",
       "      <td>0.978000</td>\n",
       "      <td>0.971000</td>\n",
       "      <td>215.972000</td>\n",
       "    </tr>\n",
       "  </tbody>\n",
       "</table>\n",
       "</div>"
      ],
      "text/plain": [
       "              score   releaseyear  danceability        energy           key  \\\n",
       "count  16738.000000  16738.000000  16738.000000  16738.000000  16738.000000   \n",
       "mean       7.048596   2009.346338      0.512334      0.601276      5.216501   \n",
       "std        1.247027      7.795465      0.158859      0.203196      1.613841   \n",
       "min        0.000000   1957.000000     -1.000000     -1.000000     -1.000000   \n",
       "25%        6.500000   2005.000000      0.408900      0.474000      4.333333   \n",
       "50%        7.300000   2010.000000      0.511348      0.624722      5.230769   \n",
       "75%        7.800000   2015.000000      0.622625      0.749714      6.100000   \n",
       "max       10.000000   2019.000000      0.974000      0.999000     11.000000   \n",
       "\n",
       "           loudness   speechiness  acousticness  instrumentalness  \\\n",
       "count  16738.000000  16738.000000  16738.000000      16738.000000   \n",
       "mean      -9.283268      0.090742      0.301914          0.274748   \n",
       "std        4.238371      0.090126      0.262392          0.298907   \n",
       "min      -51.728750     -1.000000     -1.000000         -1.000000   \n",
       "25%      -11.217535      0.040633      0.091104          0.009597   \n",
       "50%       -8.444263      0.056665      0.228844          0.149363   \n",
       "75%       -6.392496      0.100211      0.460500          0.497283   \n",
       "max        4.078000      0.958000      0.996000          0.982000   \n",
       "\n",
       "           liveness       valence         tempo  \n",
       "count  16738.000000  16738.000000  16738.000000  \n",
       "mean       0.196402      0.405268    120.326487  \n",
       "std        0.104933      0.182293     15.482320  \n",
       "min       -1.000000     -1.000000     -1.000000  \n",
       "25%        0.134517      0.274267    111.240000  \n",
       "50%        0.174261      0.406288    120.397346  \n",
       "75%        0.228338      0.531720    129.141008  \n",
       "max        0.978000      0.971000    215.972000  "
      ]
     },
     "execution_count": 4,
     "metadata": {},
     "output_type": "execute_result"
    }
   ],
   "source": [
    "albums.describe()"
   ]
  },
  {
   "cell_type": "code",
   "execution_count": 5,
   "metadata": {
    "scrolled": true
   },
   "outputs": [
    {
     "data": {
      "image/png": "[encoded data removed]",
      "text/plain": [
       "<Figure size 720x576 with 6 Axes>"
      ]
     },
     "metadata": {
      "needs_background": "light"
     },
     "output_type": "display_data"
    }
   ],
   "source": [
    "numeric_col = ['score', 'releaseyear', 'danceability', 'energy', 'key', 'loudness',\n",
    "       'speechiness', 'acousticness', 'instrumentalness', 'liveness',\n",
    "       'valence', 'tempo']\n",
    "spotify_col =['danceability', 'energy',\n",
    "       'speechiness', 'acousticness', 'instrumentalness', 'liveness',\n",
    "       'valence']\n",
    "plt.figure(figsize=(10,8))\n",
    "albums.boxplot(column=spotify_col, ax=plt.subplot(2,1,1))\n",
    "plt.title('Distribution of numerical features')\n",
    "\n",
    "alone_col=['score', 'releaseyear','key', 'loudness','tempo']\n",
    "for i,col in enumerate(alone_col):\n",
    "    albums.boxplot(column=col, ax=plt.subplot(2, 5, 5 + i+1))\n",
    "\n",
    "plt.tight_layout()\n"
   ]
  },
  {
   "cell_type": "markdown",
   "metadata": {},
   "source": [
    "#### 1.4"
   ]
  },
  {
   "cell_type": "code",
   "execution_count": 6,
   "metadata": {},
   "outputs": [
    {
     "data": {
      "text/html": [
       "<div>\n",
       "<style scoped>\n",
       "    .dataframe tbody tr th:only-of-type {\n",
       "        vertical-align: middle;\n",
       "    }\n",
       "\n",
       "    .dataframe tbody tr th {\n",
       "        vertical-align: top;\n",
       "    }\n",
       "\n",
       "    .dataframe thead th {\n",
       "        text-align: right;\n",
       "    }\n",
       "</style>\n",
       "<table border=\"1\" class=\"dataframe\">\n",
       "  <thead>\n",
       "    <tr style=\"text-align: right;\">\n",
       "      <th></th>\n",
       "      <th>Column_Name</th>\n",
       "      <th>Num_Unique</th>\n",
       "    </tr>\n",
       "  </thead>\n",
       "  <tbody>\n",
       "    <tr>\n",
       "      <th>5</th>\n",
       "      <td>genre</td>\n",
       "      <td>10</td>\n",
       "    </tr>\n",
       "    <tr>\n",
       "      <th>2</th>\n",
       "      <td>reviewauthor</td>\n",
       "      <td>554</td>\n",
       "    </tr>\n",
       "    <tr>\n",
       "      <th>4</th>\n",
       "      <td>recordlabel</td>\n",
       "      <td>3032</td>\n",
       "    </tr>\n",
       "    <tr>\n",
       "      <th>3</th>\n",
       "      <td>reviewdate</td>\n",
       "      <td>4876</td>\n",
       "    </tr>\n",
       "    <tr>\n",
       "      <th>0</th>\n",
       "      <td>artist</td>\n",
       "      <td>7892</td>\n",
       "    </tr>\n",
       "    <tr>\n",
       "      <th>1</th>\n",
       "      <td>album</td>\n",
       "      <td>16183</td>\n",
       "    </tr>\n",
       "  </tbody>\n",
       "</table>\n",
       "</div>"
      ],
      "text/plain": [
       "    Column_Name  Num_Unique\n",
       "5         genre          10\n",
       "2  reviewauthor         554\n",
       "4   recordlabel        3032\n",
       "3    reviewdate        4876\n",
       "0        artist        7892\n",
       "1         album       16183"
      ]
     },
     "execution_count": 6,
     "metadata": {},
     "output_type": "execute_result"
    }
   ],
   "source": [
    "albums.replace(to_replace={'genre':'none'}, value='Other', inplace=True)\n",
    "albums.fillna(value={\"genre\":\"Other\"}, inplace=True)\n",
    "\n",
    "cat_col = ['artist', 'album','reviewauthor', 'reviewdate',\n",
    "       'recordlabel', 'genre']\n",
    "#https://pbpython.com/pandas_dtypes_cat.html\n",
    "\n",
    "cat_df = pd.DataFrame.from_records([(col, albums[col].nunique()) for col in cat_col],\n",
    "                          columns=['Column_Name', 'Num_Unique']).sort_values(by=['Num_Unique'])\n",
    "\n",
    "cat_df"
   ]
  },
  {
   "cell_type": "code",
   "execution_count": 7,
   "metadata": {},
   "outputs": [
    {
     "name": "stdout",
     "output_type": "stream",
     "text": [
      "List of genre :\n",
      "\n",
      "['Electronic' 'Folk/Country' 'Rock' 'Rap' 'Global' 'Experimental' 'Metal'\n",
      " 'Pop/R&B' 'Jazz' 'Other']\n"
     ]
    }
   ],
   "source": [
    "for i in range(len(cat_df)):\n",
    "    if cat_df['Num_Unique'][i]<=10:\n",
    "        print(\"List of \" + cat_df['Column_Name'][i] + \" :\\n\")\n",
    "        print(albums[cat_df['Column_Name'][i]].unique())   "
   ]
  },
  {
   "cell_type": "markdown",
   "metadata": {},
   "source": [
    "#### 1.5 \n",
    "\n",
    "  1. The way albums had been rated and chosen is not consistant and had changed in time. We see that they covered few albums from 1960-2000. \n",
    "\n",
    "        However, we see a spike starting around 2000 associated with a drop in the average score. This means that the albums covered before Pitchfork's creation (in 1995) were **selected** amongst the best, most succesful ones which results in **high average scores**.\n",
    "    \n",
    "        From 2000, they started reviewing a lot more albums (probably most album at their release) and resulted in a drastic drop in the scores. \n",
    "    \n",
    "        This is also a problem in the sense that the way a 'past' album and a 'actual' album are reviewed is very **different**. \n",
    "    \n",
    "        Indeed, when you review a album from the past, you **already have a sense** of the 'success' and 'probability' of the album but this is not the case when you review an album that has just came out.\n",
    "\n",
    "\n",
    "2. An album is reviwed only by one reviewer, This is a problem in the sense that it depends on the reviewer's personality : on his tastes, his mood, his age ... On the Wikipedia page, we can read that the subjectivity of the review was criticized.\n",
    "\n",
    "\n",
    "3. Finally, Pitchfork was oriented a lot toward indie rock style. This means that the choice of music reviewed is selected, and not representative of the albums released in general."
   ]
  },
  {
   "cell_type": "markdown",
   "metadata": {
    "pycharm": {
     "name": "#%% md\n"
    }
   },
   "source": [
    "#### **Task 2 (Pre-processing and pipeline code — 12 pts)**\n",
    "\n",
    "Next, you decide to prepare the code that will help you in training your machine learning models. Also, you implement a simple baseline. For this task, **unless otherwise stated** you must implement functions yourself, instead of relying on `scikit-learn` (you can use `numpy` or `pandas`, though!).\n",
    "\n",
    "1. For each possible value in the `genre` column, create a new column called `{genre}_onehot` (e.g., for `genre=jazz`, create `jazz_onehot`). Collectively, these new columns should \"one hot-encode\" the genre column—for instance, if for a given album the `genre` is filled with the value `jazz`, the `jazz_onehot` column should equal 1 and all other `{genre}_onehot` columns should equal 0. \n",
    "\n",
    "2. Create a function `numpy_helper(df, cols)` to obtain a `numpy.array` out of your `dataframe`. The function should receive a dataframe `df` with N rows and a list of M columns `cols`, and should return a `np.array` of dimension (NxM).\n",
    "\n",
    "3. For each album, build an array of features `X` containing all genre-related one-hot features, and an array of outcomes `y` containing scores. Using the function [`sklearn.model_selection.train_test_split`](https://scikit-learn.org/stable/modules/generated/sklearn.model_selection.train_test_split.html) with `random_state=123`, split the data into a train set containing 70% of all data, and a test set containing the remaining 30%.\n",
    "\n",
    "4. Create your own baseline regressor. Using the training data (in the training stage), your regressor should estimate the average score for all albums. Then, for the test data (in the prediction stage), your classifier should always output the average score (computed on the training data).\n",
    "\n",
    "5. Calculate the [coefficient of determination ($R^2$)](https://scikit-learn.org/stable/modules/generated/sklearn.metrics.r2_score.html) of your baseline on the test data. **You are allowed to use the `sklearn` implementation here.**\n",
    "\n",
    "6. **Discuss:** Your train-test split randomly selected 70% of all data for the training set. Why is this a problem for the broader task of predicting whether a future album will be successful or not?\n",
    "\n",
    "---"
   ]
  },
  {
   "cell_type": "markdown",
   "metadata": {},
   "source": [
    "#### 2.1"
   ]
  },
  {
   "cell_type": "code",
   "execution_count": 8,
   "metadata": {
    "scrolled": true
   },
   "outputs": [
    {
     "data": {
      "text/html": [
       "<div>\n",
       "<style scoped>\n",
       "    .dataframe tbody tr th:only-of-type {\n",
       "        vertical-align: middle;\n",
       "    }\n",
       "\n",
       "    .dataframe tbody tr th {\n",
       "        vertical-align: top;\n",
       "    }\n",
       "\n",
       "    .dataframe thead th {\n",
       "        text-align: right;\n",
       "    }\n",
       "</style>\n",
       "<table border=\"1\" class=\"dataframe\">\n",
       "  <thead>\n",
       "    <tr style=\"text-align: right;\">\n",
       "      <th></th>\n",
       "      <th>artist</th>\n",
       "      <th>album</th>\n",
       "      <th>reviewauthor</th>\n",
       "      <th>score</th>\n",
       "      <th>releaseyear</th>\n",
       "      <th>reviewdate</th>\n",
       "      <th>recordlabel</th>\n",
       "      <th>genre</th>\n",
       "      <th>danceability</th>\n",
       "      <th>energy</th>\n",
       "      <th>...</th>\n",
       "      <th>Electronic_onehot</th>\n",
       "      <th>Folk/Country_onehot</th>\n",
       "      <th>Rock_onehot</th>\n",
       "      <th>Rap_onehot</th>\n",
       "      <th>Global_onehot</th>\n",
       "      <th>Experimental_onehot</th>\n",
       "      <th>Metal_onehot</th>\n",
       "      <th>Pop/R&amp;B_onehot</th>\n",
       "      <th>Jazz_onehot</th>\n",
       "      <th>Other_onehot</th>\n",
       "    </tr>\n",
       "  </thead>\n",
       "  <tbody>\n",
       "    <tr>\n",
       "      <th>0</th>\n",
       "      <td>Studio 1</td>\n",
       "      <td>Studio 1</td>\n",
       "      <td>Andy Battaglia</td>\n",
       "      <td>8.5</td>\n",
       "      <td>2009.0</td>\n",
       "      <td>February 18 2009</td>\n",
       "      <td>Studio</td>\n",
       "      <td>Electronic</td>\n",
       "      <td>0.511917</td>\n",
       "      <td>0.499667</td>\n",
       "      <td>...</td>\n",
       "      <td>1</td>\n",
       "      <td>0</td>\n",
       "      <td>0</td>\n",
       "      <td>0</td>\n",
       "      <td>0</td>\n",
       "      <td>0</td>\n",
       "      <td>0</td>\n",
       "      <td>0</td>\n",
       "      <td>0</td>\n",
       "      <td>0</td>\n",
       "    </tr>\n",
       "    <tr>\n",
       "      <th>1</th>\n",
       "      <td>John Fahey</td>\n",
       "      <td>The Great Santa Barbara Oil Slick</td>\n",
       "      <td>Mark Richardson</td>\n",
       "      <td>8.2</td>\n",
       "      <td>2005.0</td>\n",
       "      <td>February 13 2005</td>\n",
       "      <td>Water</td>\n",
       "      <td>Folk/Country</td>\n",
       "      <td>0.369765</td>\n",
       "      <td>0.325412</td>\n",
       "      <td>...</td>\n",
       "      <td>0</td>\n",
       "      <td>1</td>\n",
       "      <td>0</td>\n",
       "      <td>0</td>\n",
       "      <td>0</td>\n",
       "      <td>0</td>\n",
       "      <td>0</td>\n",
       "      <td>0</td>\n",
       "      <td>0</td>\n",
       "      <td>0</td>\n",
       "    </tr>\n",
       "    <tr>\n",
       "      <th>2</th>\n",
       "      <td>Reigning Sound</td>\n",
       "      <td>Too Much Guitar</td>\n",
       "      <td>Stephen M. Deusner</td>\n",
       "      <td>8.3</td>\n",
       "      <td>2004.0</td>\n",
       "      <td>August 19 2004</td>\n",
       "      <td>In the Red</td>\n",
       "      <td>Electronic</td>\n",
       "      <td>0.253943</td>\n",
       "      <td>0.912857</td>\n",
       "      <td>...</td>\n",
       "      <td>1</td>\n",
       "      <td>0</td>\n",
       "      <td>0</td>\n",
       "      <td>0</td>\n",
       "      <td>0</td>\n",
       "      <td>0</td>\n",
       "      <td>0</td>\n",
       "      <td>0</td>\n",
       "      <td>0</td>\n",
       "      <td>0</td>\n",
       "    </tr>\n",
       "    <tr>\n",
       "      <th>3</th>\n",
       "      <td>The Red Thread</td>\n",
       "      <td>After the Last</td>\n",
       "      <td>Chris Dahlen</td>\n",
       "      <td>7.3</td>\n",
       "      <td>2003.0</td>\n",
       "      <td>July 17 2003</td>\n",
       "      <td>Badman</td>\n",
       "      <td>Rock</td>\n",
       "      <td>0.425400</td>\n",
       "      <td>0.433474</td>\n",
       "      <td>...</td>\n",
       "      <td>0</td>\n",
       "      <td>0</td>\n",
       "      <td>1</td>\n",
       "      <td>0</td>\n",
       "      <td>0</td>\n",
       "      <td>0</td>\n",
       "      <td>0</td>\n",
       "      <td>0</td>\n",
       "      <td>0</td>\n",
       "      <td>0</td>\n",
       "    </tr>\n",
       "    <tr>\n",
       "      <th>4</th>\n",
       "      <td>Mac Miller</td>\n",
       "      <td>Swimming</td>\n",
       "      <td>Evan Rytlewski</td>\n",
       "      <td>7.5</td>\n",
       "      <td>2018.0</td>\n",
       "      <td>August 3 2018</td>\n",
       "      <td>Warner Bros.</td>\n",
       "      <td>Rap</td>\n",
       "      <td>0.624846</td>\n",
       "      <td>0.438154</td>\n",
       "      <td>...</td>\n",
       "      <td>0</td>\n",
       "      <td>0</td>\n",
       "      <td>0</td>\n",
       "      <td>1</td>\n",
       "      <td>0</td>\n",
       "      <td>0</td>\n",
       "      <td>0</td>\n",
       "      <td>0</td>\n",
       "      <td>0</td>\n",
       "      <td>0</td>\n",
       "    </tr>\n",
       "  </tbody>\n",
       "</table>\n",
       "<p>5 rows × 28 columns</p>\n",
       "</div>"
      ],
      "text/plain": [
       "           artist                              album        reviewauthor  \\\n",
       "0        Studio 1                           Studio 1      Andy Battaglia   \n",
       "1      John Fahey  The Great Santa Barbara Oil Slick     Mark Richardson   \n",
       "2  Reigning Sound                    Too Much Guitar  Stephen M. Deusner   \n",
       "3  The Red Thread                     After the Last        Chris Dahlen   \n",
       "4      Mac Miller                           Swimming      Evan Rytlewski   \n",
       "\n",
       "   score  releaseyear        reviewdate   recordlabel         genre  \\\n",
       "0    8.5       2009.0  February 18 2009        Studio    Electronic   \n",
       "1    8.2       2005.0  February 13 2005         Water  Folk/Country   \n",
       "2    8.3       2004.0    August 19 2004    In the Red    Electronic   \n",
       "3    7.3       2003.0      July 17 2003        Badman          Rock   \n",
       "4    7.5       2018.0     August 3 2018  Warner Bros.           Rap   \n",
       "\n",
       "   danceability    energy  ...  Electronic_onehot  Folk/Country_onehot  \\\n",
       "0      0.511917  0.499667  ...                  1                    0   \n",
       "1      0.369765  0.325412  ...                  0                    1   \n",
       "2      0.253943  0.912857  ...                  1                    0   \n",
       "3      0.425400  0.433474  ...                  0                    0   \n",
       "4      0.624846  0.438154  ...                  0                    0   \n",
       "\n",
       "   Rock_onehot  Rap_onehot  Global_onehot  Experimental_onehot  Metal_onehot  \\\n",
       "0            0           0              0                    0             0   \n",
       "1            0           0              0                    0             0   \n",
       "2            0           0              0                    0             0   \n",
       "3            1           0              0                    0             0   \n",
       "4            0           1              0                    0             0   \n",
       "\n",
       "   Pop/R&B_onehot  Jazz_onehot  Other_onehot  \n",
       "0               0            0             0  \n",
       "1               0            0             0  \n",
       "2               0            0             0  \n",
       "3               0            0             0  \n",
       "4               0            0             0  \n",
       "\n",
       "[5 rows x 28 columns]"
      ]
     },
     "execution_count": 8,
     "metadata": {},
     "output_type": "execute_result"
    }
   ],
   "source": [
    "unique_genres = albums['genre'].unique()\n",
    "for g in unique_genres:\n",
    "    albums[\"{}_onehot\".format(g)] = (albums['genre'].apply(lambda x: 1 if x == g else 0))\n",
    "albums.head()"
   ]
  },
  {
   "cell_type": "markdown",
   "metadata": {},
   "source": [
    "#### 2.2"
   ]
  },
  {
   "cell_type": "code",
   "execution_count": 9,
   "metadata": {},
   "outputs": [],
   "source": [
    "def numpy_helper(df, cols):\n",
    "    return df[cols].to_numpy()"
   ]
  },
  {
   "cell_type": "markdown",
   "metadata": {},
   "source": [
    "#### 2.3"
   ]
  },
  {
   "cell_type": "code",
   "execution_count": 10,
   "metadata": {},
   "outputs": [
    {
     "name": "stdout",
     "output_type": "stream",
     "text": [
      "Number of data points in training set :  11716\n",
      "Number of data points in test set :  5022\n"
     ]
    }
   ],
   "source": [
    "onehot_col =['score', 'Electronic_onehot', 'Folk/Country_onehot',\n",
    "       'Rock_onehot', 'Rap_onehot', 'Global_onehot', 'Experimental_onehot',\n",
    "       'Metal_onehot', 'Pop/R&B_onehot', 'Jazz_onehot', 'Other_onehot']\n",
    "\n",
    "\n",
    "album_model_features = numpy_helper(albums, onehot_col)\n",
    "\n",
    "\n",
    "train_set, test_set = model_selection.train_test_split(album_model_features, random_state=123, train_size=0.7)\n",
    "\n",
    "X_train = train_set[:, 1:]\n",
    "y_train = train_set[:, 0]\n",
    "X_test = test_set[:, 1:]\n",
    "y_test = test_set[:, 0]\n",
    "\n",
    "print(\"Number of data points in training set : \", len(train_set))\n",
    "print(\"Number of data points in test set : \", len(test_set))"
   ]
  },
  {
   "cell_type": "markdown",
   "metadata": {},
   "source": [
    "#### 2.4"
   ]
  },
  {
   "cell_type": "code",
   "execution_count": 11,
   "metadata": {},
   "outputs": [],
   "source": [
    "# Functions for creating our baseline regressor\n",
    "\n",
    "def least_squares(y, tx):\n",
    "    \"\"\"Calculate the least squares solution\n",
    "        by returning optimal weights.\n",
    "    \"\"\"\n",
    "    a = tx.T.dot(tx)\n",
    "    b = tx.T.dot(y)\n",
    "    w = np.linalg.solve(a, b)\n",
    "    return w\n",
    "\n",
    "def add_biais (x):\n",
    "    x = np.c_[np.ones((x.shape[0],1)),x]\n",
    "    return x"
   ]
  },
  {
   "cell_type": "code",
   "execution_count": 12,
   "metadata": {},
   "outputs": [],
   "source": [
    "# We add a column of ones to account for the biais term\n",
    "X_train_biais = add_biais(X_train)\n",
    "X_test_biais = add_biais(X_test)"
   ]
  },
  {
   "cell_type": "code",
   "execution_count": 13,
   "metadata": {},
   "outputs": [],
   "source": [
    "# Optimal weights\n",
    "w = least_squares(y_train, X_train_biais)"
   ]
  },
  {
   "cell_type": "code",
   "execution_count": 14,
   "metadata": {},
   "outputs": [],
   "source": [
    "# Finally we get our prediction\n",
    "y_predicted = X_test_biais.dot(w)"
   ]
  },
  {
   "cell_type": "markdown",
   "metadata": {},
   "source": [
    "#### 2.5"
   ]
  },
  {
   "cell_type": "code",
   "execution_count": 15,
   "metadata": {},
   "outputs": [
    {
     "name": "stdout",
     "output_type": "stream",
     "text": [
      "Coefficient of determination of our baseline on test data : 0.0143\n"
     ]
    }
   ],
   "source": [
    "r2 = r2_score(y_test, y_predicted)\n",
    "print(\"Coefficient of determination of our baseline on test data : {:.4f}\".format(r2))"
   ]
  },
  {
   "cell_type": "markdown",
   "metadata": {},
   "source": [
    "#### 2.6 \n",
    "The problem is that we applied a random split and we could have a subset that contain only albums with specific attributes (for example only a certain genre). So this would lead to overfitting. \n",
    "\n",
    "To avoid this, we should perform a cross validation."
   ]
  },
  {
   "cell_type": "markdown",
   "metadata": {},
   "source": [
    "**Task 3 (Regression — 14 pts)**\n",
    "\n",
    "Finally, you get down to business and train your regression models.\n",
    "\n",
    "1. Build a Linear Regression model (use `sklearn`) that predicts the outcome `score` using the features \"releaseyear\",  \"key\", \"acousticness\", \"danceability\", \"energy\", \"instrumentalness\", \"liveness\", \"loudness\", \"speechiness\", \"valence\", \"tempo\" and the one-hot encoded genre-related columns.  Using a 70/30 train-test split similar to what you did in task two (hereinafter referred to as \"the random split\", use the same random seed, `random_state=123`), report the $R^2$ for the testing set.\n",
    "\n",
    "2. Create an alternate train-test split (hereinafter referred to as \"the longitudinal split\") where you train with data from albums released before 2000 and test with data from 2003 and after. Report the $R^2$ for the testing set using the same model you developed for the previous question. **Discuss:** give the correct interpretation of $R^2$ value for the longitudinal split.\n",
    "\n",
    "3. For a given entry $X$ your model outputs a predicted score $Y'$. The difference between the real score $Y$ and the predicted score $Y'$ is called the \"residual\". Considering the model trained in 3.2, plot the distribution of your residuals for the test set. Additionally, estimate what is the probability that your score prediction (from 3.2) is off by more than 2-points? Provide bootstrapped confidence intervals for your answer.\n",
    "\n",
    "4. Experiment with training a different regressor, a Gradient Boosting Regressor. This regressor is related to the Boosted decision trees that you have seen in class. This model performs extremely well for a variety of tasks and is often used in machine learning competitions for tabular data (e.g., on Kaggle). Train the regressor using the longitudinal split and the same features as in 3.2, use the default hyperparameters. Report the $R^2$ for the testing set. \n",
    "\n",
    "5. **Discuss:** Hypothesize a reason for the difference in performance between the Linear regression and the Gradient Boosting Regressor.\n",
    "\n",
    "---"
   ]
  },
  {
   "cell_type": "markdown",
   "metadata": {},
   "source": [
    "#### 3.1"
   ]
  },
  {
   "cell_type": "code",
   "execution_count": 16,
   "metadata": {},
   "outputs": [
    {
     "name": "stdout",
     "output_type": "stream",
     "text": [
      "Value of R2 with random split : 0.0442\n"
     ]
    }
   ],
   "source": [
    "features = [\"score\", \"releaseyear\", \"key\", \"acousticness\", \"danceability\", \n",
    "            \"energy\", \"instrumentalness\", \"liveness\", \"loudness\", \n",
    "            \"speechiness\", \"valence\", \"tempo\",'Electronic_onehot', 'Folk/Country_onehot',\n",
    "           'Rock_onehot', 'Rap_onehot', 'Global_onehot', 'Experimental_onehot',\n",
    "           'Metal_onehot', 'Pop/R&B_onehot', 'Jazz_onehot', 'Other_onehot']\n",
    "##probably clean this up \n",
    "model = LinearRegression()\n",
    "random_train_set, random_test_set = model_selection.train_test_split(albums[features], random_state=123, train_size=0.7) \n",
    "model.fit(random_train_set.drop('score', inplace=False, axis=1), random_train_set['score'])\n",
    "\n",
    "y_pred_random = model.predict(random_test_set.drop('score', inplace=False, axis=1))\n",
    "r2_random=r2_score(random_test_set['score'], y_pred_random)\n",
    "print('Value of R2 with random split : {:.4f}'.format(r2_random))"
   ]
  },
  {
   "cell_type": "markdown",
   "metadata": {},
   "source": [
    "#### 3.2"
   ]
  },
  {
   "cell_type": "code",
   "execution_count": 17,
   "metadata": {},
   "outputs": [
    {
     "name": "stdout",
     "output_type": "stream",
     "text": [
      "Value of R2 with longitudinal split : -0.2832\n"
     ]
    }
   ],
   "source": [
    "longit_train_set = albums.loc[albums['releaseyear'] < 2000][features]\n",
    "longit_test_set = albums.loc[albums['releaseyear'] >= 2003][features]\n",
    "\n",
    "model.fit(longit_train_set.drop('score', inplace=False, axis=1), longit_train_set['score'])\n",
    "\n",
    "y_pred_longit = model.predict(longit_test_set.drop('score', inplace=False, axis=1))\n",
    "r2_long=r2_score(longit_test_set['score'], y_pred_longit)\n",
    "print('Value of R2 with longitudinal split : {:.4f}'.format(r2_long))"
   ]
  },
  {
   "cell_type": "markdown",
   "metadata": {},
   "source": [
    "#### Discussion \n",
    "\n",
    "A model that predicts exactly the value is one. A model predicting always the mean value has a $R^2$ value of 0.  \n",
    "We have a negative $R^2$, this means that our model's predictions are worst than a model who would always predict the mean value. \n",
    "\n",
    "This can be explained because of the difference between the data before 2000 and the data after. We saw in task one that there was a radical change around 2000 : only a few reviews but very good rating before 2000 and after there were many more reviews with lower rating. Therefore training our model on the data before 2000 or on the data after gives very diffrent results."
   ]
  },
  {
   "cell_type": "markdown",
   "metadata": {},
   "source": [
    "#### 3.3"
   ]
  },
  {
   "cell_type": "code",
   "execution_count": 18,
   "metadata": {},
   "outputs": [
    {
     "name": "stdout",
     "output_type": "stream",
     "text": [
      "The 95% bootstrapped confidence interval is : [-3.95, 1.38].\n",
      "The probability that the residual being contained in the [-2, 2] bracket is 88.57 %.\n"
     ]
    },
    {
     "data": {
      "image/png": "[encoded data removed]",
      "text/plain": [
       "<Figure size 864x360 with 2 Axes>"
      ]
     },
     "metadata": {
      "needs_background": "light"
     },
     "output_type": "display_data"
    }
   ],
   "source": [
    "fig, ax = plt.subplots(1, 2, figsize=(12,5))\n",
    "sns.boxplot(x=longit_test_set['score']-y_pred_longit, ax=ax[0])\n",
    "ax[0].set_title(\"Distribution of residuals in the test set for a longitudinal split\")\n",
    "ax[0].set_xlabel(\"residual\")\n",
    "\n",
    "sample = albums.sample(10000, replace=True)[features]\n",
    "score_bootstrap = sample['score'] - model.predict(sample.drop('score', inplace=False, axis=1))\n",
    "score_bootstrap.sort_values(inplace=True, ignore_index=True)\n",
    "print(\"The 95% bootstrapped confidence interval is : [{:.2f}, {:.2f}].\".format(score_bootstrap.iloc[250], score_bootstrap.iloc[9750]))\n",
    "idneg = score_bootstrap.sub(-2).abs().idxmin()\n",
    "idpos = score_bootstrap.sub(2).abs().idxmin()\n",
    "print(\"The probability that the residual being contained in the [-2, 2] bracket is {:.2f} %.\".format((idpos-idneg)/100))\n",
    "sns.boxplot(x=score_bootstrap, ax=ax[1])\n",
    "ax[1].set_title(\"Distribution of residuals in the bootstrapped test set\")\n",
    "ax[1].set_xlabel(\"residual\")\n",
    "\n",
    "plt.show()"
   ]
  },
  {
   "cell_type": "markdown",
   "metadata": {},
   "source": [
    "#### 3.4"
   ]
  },
  {
   "cell_type": "code",
   "execution_count": 19,
   "metadata": {},
   "outputs": [
    {
     "name": "stdout",
     "output_type": "stream",
     "text": [
      "Value of R2 with longitudinal split and Gratient Boosting Regressor : -0.4213\n"
     ]
    }
   ],
   "source": [
    "model = GradientBoostingRegressor()\n",
    "model.fit(longit_train_set.drop('score', inplace=False, axis=1), longit_train_set['score'])\n",
    "\n",
    "y_pred_longit = model.predict(longit_test_set.drop('score', inplace=False, axis=1))\n",
    "r2_grad=r2_score(longit_test_set['score'], y_pred_longit)\n",
    "print('Value of R2 with longitudinal split and Gratient Boosting Regressor : {:.4f}'.format(r2_grad))"
   ]
  },
  {
   "cell_type": "markdown",
   "metadata": {},
   "source": [
    "#### 3.5\n",
    "\n",
    "A negative $R^2$ can be interpreted as the fact that the model fits the data worse than predicting the average would. The $R^2$ being worse for the Gradient Boosting Regressor than it is for Linear Regression could come from the fact that the GBR fits the training data better. However, since our training set and our test set are can be different (cf. task1), our predictions end up being worse than a model that didn't fit the training data as closely (overfitting)."
   ]
  },
  {
   "cell_type": "markdown",
   "metadata": {},
   "source": [
    "**Task 4 (Are we solving the correct problem? — 16 pts)**\n",
    "\n",
    "All your efforts so far have assumed that decisions are taken at the \"album\" level, which is often not the case for bands with multiple albums. In those cases, it could be interesting to predict what is the success of a given band album given the features of the album **and of previous albums**.\n",
    "\n",
    "1. Create a new dataframe that contains one row per band with more than 1 album. This dataframe should have the same columns as the data provided to you, considering the latest album of the respective band (note that this is determined by the release year of the album, not the date when it was reviewed). Additionally, for each feature considered in Task 3.1 (including the one-hot encoded features), create an additional column post-fixed with `_previous` (e.g., `danceability_previous`). These columns should contain the average values for all of the band's previous albums. Also, create a column `score_previous` with the average score of previous albums. Print the number of rows in the dataframe as well as the name of the columns.\n",
    "\n",
    "2. Train a Gradient Boosting Regressor considering all features created in Task 4.1 (note that `score` is the outcome and everything else is a feature, including `score_previous`). Use the 70/30 random train-test split, the default hyperparameters, and report the $R^2$ for the testing set. \n",
    "\n",
    "3. Can hyperparameter tuning improve your model? Write modular code (i.e., a function) to divide your training data into $N$ folds and perform cross-validation. Experiment tuning two hyperparameters of the Gradient Boosting Regressor: `n_estimators` and `learning_rate`. For each possible combination of the two hyperparameters (see below for the range of values that you should try for each hyperparameter), train your model in a cross-validation setup with $N=20$ folds. Report the mean  $R^2$ along with the 90% CI for each scenario. \n",
    "    - n_estimators $ \\in  \\{ 100, 200, 300, 400\\}$\n",
    "    - learning_rate $ \\in  \\{ 0.1, 0.05, 0.01\\}$.\n",
    " \n",
    " With the best hyperparameters obtained, train your model with the entire training set and report the $R^2$ on the testing set.\n",
    " \n",
    "4. **Discuss:** How do these results compare with the previous setup (the scenario considered in **Task 3.4**)? Point out two reasons why it is hard to compare the results obtained in 4.3 and 3.4 at face value? How would you fairly compare the two different setups?\n",
    "\n",
    "---"
   ]
  },
  {
   "cell_type": "markdown",
   "metadata": {},
   "source": [
    "#### 4.1"
   ]
  },
  {
   "cell_type": "code",
   "execution_count": 20,
   "metadata": {
    "scrolled": true
   },
   "outputs": [
    {
     "data": {
      "text/html": [
       "<div>\n",
       "<style scoped>\n",
       "    .dataframe tbody tr th:only-of-type {\n",
       "        vertical-align: middle;\n",
       "    }\n",
       "\n",
       "    .dataframe tbody tr th {\n",
       "        vertical-align: top;\n",
       "    }\n",
       "\n",
       "    .dataframe thead th {\n",
       "        text-align: right;\n",
       "    }\n",
       "</style>\n",
       "<table border=\"1\" class=\"dataframe\">\n",
       "  <thead>\n",
       "    <tr style=\"text-align: right;\">\n",
       "      <th></th>\n",
       "      <th>artist</th>\n",
       "      <th>score_previous</th>\n",
       "      <th>releaseyear_previous</th>\n",
       "      <th>danceability_previous</th>\n",
       "      <th>energy_previous</th>\n",
       "      <th>key_previous</th>\n",
       "      <th>loudness_previous</th>\n",
       "      <th>speechiness_previous</th>\n",
       "      <th>acousticness_previous</th>\n",
       "      <th>instrumentalness_previous</th>\n",
       "      <th>...</th>\n",
       "      <th>Electronic_onehot</th>\n",
       "      <th>Folk/Country_onehot</th>\n",
       "      <th>Rock_onehot</th>\n",
       "      <th>Rap_onehot</th>\n",
       "      <th>Global_onehot</th>\n",
       "      <th>Experimental_onehot</th>\n",
       "      <th>Metal_onehot</th>\n",
       "      <th>Pop/R&amp;B_onehot</th>\n",
       "      <th>Jazz_onehot</th>\n",
       "      <th>Other_onehot</th>\n",
       "    </tr>\n",
       "  </thead>\n",
       "  <tbody>\n",
       "    <tr>\n",
       "      <th>0</th>\n",
       "      <td>!!!</td>\n",
       "      <td>6.871429</td>\n",
       "      <td>2009.285714</td>\n",
       "      <td>0.702481</td>\n",
       "      <td>0.817128</td>\n",
       "      <td>5.559668</td>\n",
       "      <td>-6.456197</td>\n",
       "      <td>0.075978</td>\n",
       "      <td>0.069859</td>\n",
       "      <td>0.183817</td>\n",
       "      <td>...</td>\n",
       "      <td>0</td>\n",
       "      <td>0</td>\n",
       "      <td>1</td>\n",
       "      <td>0</td>\n",
       "      <td>0</td>\n",
       "      <td>0</td>\n",
       "      <td>0</td>\n",
       "      <td>0</td>\n",
       "      <td>0</td>\n",
       "      <td>0</td>\n",
       "    </tr>\n",
       "    <tr>\n",
       "      <th>1</th>\n",
       "      <td>(Sandy) Alex G</td>\n",
       "      <td>8.400000</td>\n",
       "      <td>2017.000000</td>\n",
       "      <td>0.461143</td>\n",
       "      <td>0.588929</td>\n",
       "      <td>6.071429</td>\n",
       "      <td>-7.042714</td>\n",
       "      <td>0.049843</td>\n",
       "      <td>0.283422</td>\n",
       "      <td>0.313242</td>\n",
       "      <td>...</td>\n",
       "      <td>0</td>\n",
       "      <td>0</td>\n",
       "      <td>1</td>\n",
       "      <td>0</td>\n",
       "      <td>0</td>\n",
       "      <td>0</td>\n",
       "      <td>0</td>\n",
       "      <td>0</td>\n",
       "      <td>0</td>\n",
       "      <td>0</td>\n",
       "    </tr>\n",
       "    <tr>\n",
       "      <th>2</th>\n",
       "      <td>...And You Will Know Us by the Trail of Dead</td>\n",
       "      <td>7.170000</td>\n",
       "      <td>2005.600000</td>\n",
       "      <td>0.452275</td>\n",
       "      <td>0.617621</td>\n",
       "      <td>4.640999</td>\n",
       "      <td>-7.376548</td>\n",
       "      <td>0.058137</td>\n",
       "      <td>0.222795</td>\n",
       "      <td>0.200996</td>\n",
       "      <td>...</td>\n",
       "      <td>0</td>\n",
       "      <td>0</td>\n",
       "      <td>1</td>\n",
       "      <td>0</td>\n",
       "      <td>0</td>\n",
       "      <td>0</td>\n",
       "      <td>0</td>\n",
       "      <td>0</td>\n",
       "      <td>0</td>\n",
       "      <td>0</td>\n",
       "    </tr>\n",
       "    <tr>\n",
       "      <th>3</th>\n",
       "      <td>03 Greedo</td>\n",
       "      <td>7.866667</td>\n",
       "      <td>2018.333333</td>\n",
       "      <td>0.723779</td>\n",
       "      <td>0.529129</td>\n",
       "      <td>4.704545</td>\n",
       "      <td>-7.953956</td>\n",
       "      <td>0.160465</td>\n",
       "      <td>0.136049</td>\n",
       "      <td>0.003679</td>\n",
       "      <td>...</td>\n",
       "      <td>0</td>\n",
       "      <td>0</td>\n",
       "      <td>0</td>\n",
       "      <td>1</td>\n",
       "      <td>0</td>\n",
       "      <td>0</td>\n",
       "      <td>0</td>\n",
       "      <td>0</td>\n",
       "      <td>0</td>\n",
       "      <td>0</td>\n",
       "    </tr>\n",
       "    <tr>\n",
       "      <th>4</th>\n",
       "      <td>13 &amp; God</td>\n",
       "      <td>8.100000</td>\n",
       "      <td>2005.000000</td>\n",
       "      <td>0.626600</td>\n",
       "      <td>0.572700</td>\n",
       "      <td>4.500000</td>\n",
       "      <td>-11.962400</td>\n",
       "      <td>0.064900</td>\n",
       "      <td>0.477700</td>\n",
       "      <td>0.433760</td>\n",
       "      <td>...</td>\n",
       "      <td>0</td>\n",
       "      <td>0</td>\n",
       "      <td>0</td>\n",
       "      <td>0</td>\n",
       "      <td>0</td>\n",
       "      <td>1</td>\n",
       "      <td>0</td>\n",
       "      <td>0</td>\n",
       "      <td>0</td>\n",
       "      <td>0</td>\n",
       "    </tr>\n",
       "  </tbody>\n",
       "</table>\n",
       "<p>5 rows × 50 columns</p>\n",
       "</div>"
      ],
      "text/plain": [
       "                                         artist  score_previous  \\\n",
       "0                                           !!!        6.871429   \n",
       "1                                (Sandy) Alex G        8.400000   \n",
       "2  ...And You Will Know Us by the Trail of Dead        7.170000   \n",
       "3                                     03 Greedo        7.866667   \n",
       "4                                      13 & God        8.100000   \n",
       "\n",
       "   releaseyear_previous  danceability_previous  energy_previous  key_previous  \\\n",
       "0           2009.285714               0.702481         0.817128      5.559668   \n",
       "1           2017.000000               0.461143         0.588929      6.071429   \n",
       "2           2005.600000               0.452275         0.617621      4.640999   \n",
       "3           2018.333333               0.723779         0.529129      4.704545   \n",
       "4           2005.000000               0.626600         0.572700      4.500000   \n",
       "\n",
       "   loudness_previous  speechiness_previous  acousticness_previous  \\\n",
       "0          -6.456197              0.075978               0.069859   \n",
       "1          -7.042714              0.049843               0.283422   \n",
       "2          -7.376548              0.058137               0.222795   \n",
       "3          -7.953956              0.160465               0.136049   \n",
       "4         -11.962400              0.064900               0.477700   \n",
       "\n",
       "   instrumentalness_previous  ...  Electronic_onehot  Folk/Country_onehot  \\\n",
       "0                   0.183817  ...                  0                    0   \n",
       "1                   0.313242  ...                  0                    0   \n",
       "2                   0.200996  ...                  0                    0   \n",
       "3                   0.003679  ...                  0                    0   \n",
       "4                   0.433760  ...                  0                    0   \n",
       "\n",
       "   Rock_onehot  Rap_onehot  Global_onehot  Experimental_onehot  Metal_onehot  \\\n",
       "0            1           0              0                    0             0   \n",
       "1            1           0              0                    0             0   \n",
       "2            1           0              0                    0             0   \n",
       "3            0           1              0                    0             0   \n",
       "4            0           0              0                    1             0   \n",
       "\n",
       "   Pop/R&B_onehot  Jazz_onehot  Other_onehot  \n",
       "0               0            0             0  \n",
       "1               0            0             0  \n",
       "2               0            0             0  \n",
       "3               0            0             0  \n",
       "4               0            0             0  \n",
       "\n",
       "[5 rows x 50 columns]"
      ]
     },
     "execution_count": 20,
     "metadata": {},
     "output_type": "execute_result"
    }
   ],
   "source": [
    "artist_vc = albums['artist'].value_counts()\n",
    "more_album = albums.loc[albums['artist'].isin(artist_vc[artist_vc > 1].index)].sort_values('releaseyear')\n",
    "last_album = more_album.groupby('artist', as_index=False).last()\n",
    "\n",
    "old_album = pd.concat([more_album, last_album], axis=0).drop_duplicates(keep=False)\n",
    "\n",
    "assert(len(old_album) + len(last_album) == len(more_album))\n",
    "\n",
    "old_album = old_album.groupby('artist', as_index=False).mean()\n",
    "\n",
    "assert(len(old_album) == len(last_album))\n",
    "\n",
    "joined_albums = pd.merge(old_album, last_album, on='artist', suffixes=('_previous', ''))\n",
    "joined_albums.head()"
   ]
  },
  {
   "cell_type": "markdown",
   "metadata": {},
   "source": [
    "#### 4.2"
   ]
  },
  {
   "cell_type": "code",
   "execution_count": 21,
   "metadata": {
    "scrolled": true
   },
   "outputs": [
    {
     "name": "stdout",
     "output_type": "stream",
     "text": [
      "Value of R2 with random split : 0.1920\n"
     ]
    }
   ],
   "source": [
    "model = GradientBoostingRegressor()\n",
    "joined_albums_train, joined_albums_test = model_selection.train_test_split(joined_albums, test_size=0.3)\n",
    "\n",
    "joined_albums_train.drop([ 'artist', 'reviewauthor', 'releaseyear',\n",
    "       'reviewdate', 'recordlabel', 'genre', 'danceability', 'album'], inplace=True, axis=1)\n",
    "joined_albums_test.drop([ 'artist', 'reviewauthor', 'releaseyear',\n",
    "       'reviewdate', 'recordlabel', 'genre', 'danceability', 'album'], inplace=True, axis=1)\n",
    "\n",
    "model.fit(joined_albums_train.drop(['score'], inplace=False, axis=1), joined_albums_train['score'])\n",
    "\n",
    "y_pred = model.predict(joined_albums_test.drop(['score'], inplace=False, axis=1))\n",
    "r2_grad_random=r2_score(joined_albums_test['score'], y_pred)\n",
    "print('Value of R2 with random split : {:.4f}'.format(r2_grad_random))"
   ]
  },
  {
   "cell_type": "markdown",
   "metadata": {},
   "source": [
    "#### 4.3"
   ]
  },
  {
   "cell_type": "code",
   "execution_count": 22,
   "metadata": {},
   "outputs": [],
   "source": [
    "n_estimators = [100, 200, 300, 400]\n",
    "learning_rate = [0.1, 0.05, 0.01]\n",
    "\n",
    "def k_fold_cv(df, mod, y_label, k=20):\n",
    "    kf = model_selection.KFold(n_splits=k)\n",
    "    avg_r2 = np.array([])\n",
    "    for train_index, test_index in kf.split(df):\n",
    "        test_set, train_set = df.iloc[test_index], df.iloc[train_index]\n",
    "        mod.fit(train_set.drop([y_label], inplace=False, axis=1), train_set[y_label])\n",
    "        y_pred = mod.predict(test_set.drop([y_label], inplace=False, axis=1))\n",
    "        avg_r2 = np.append(avg_r2, r2_score(test_set[y_label], y_pred))\n",
    "    avg_r2.sort()\n",
    "    return avg_r2.mean(), avg_r2[1], avg_r2[18]\n",
    "\n",
    "\n",
    "def tune_hyperparams():\n",
    "    r2_df = pd.DataFrame(columns=['learning_rate', 'n_estimators', 'r2', '5%_CI', '95%_CI'])\n",
    "    for est in n_estimators:\n",
    "        for lr in learning_rate:\n",
    "            model = GradientBoostingRegressor(n_estimators=est, learning_rate=lr)\n",
    "            r2, five, ninety_five = k_fold_cv(joined_albums.drop([ 'artist', 'reviewauthor', 'releaseyear',\n",
    "                'reviewdate', 'recordlabel', 'genre', 'album'], inplace=False, axis=1), model, 'score')\n",
    "            r2_df.loc[len(r2_df)] = [lr, est, r2, five, ninety_five]\n",
    "            #print(est, lr, r2)\n",
    "    return r2_df\n",
    "            \n",
    "r2_df = tune_hyperparams()"
   ]
  },
  {
   "cell_type": "code",
   "execution_count": 23,
   "metadata": {},
   "outputs": [
    {
     "data": {
      "text/html": [
       "<div>\n",
       "<style scoped>\n",
       "    .dataframe tbody tr th:only-of-type {\n",
       "        vertical-align: middle;\n",
       "    }\n",
       "\n",
       "    .dataframe tbody tr th {\n",
       "        vertical-align: top;\n",
       "    }\n",
       "\n",
       "    .dataframe thead th {\n",
       "        text-align: right;\n",
       "    }\n",
       "</style>\n",
       "<table border=\"1\" class=\"dataframe\">\n",
       "  <thead>\n",
       "    <tr style=\"text-align: right;\">\n",
       "      <th></th>\n",
       "      <th>learning_rate</th>\n",
       "      <th>n_estimators</th>\n",
       "      <th>r2</th>\n",
       "      <th>5%_CI</th>\n",
       "      <th>95%_CI</th>\n",
       "    </tr>\n",
       "  </thead>\n",
       "  <tbody>\n",
       "    <tr>\n",
       "      <th>0</th>\n",
       "      <td>0.10</td>\n",
       "      <td>100.0</td>\n",
       "      <td>0.178286</td>\n",
       "      <td>0.042642</td>\n",
       "      <td>0.322877</td>\n",
       "    </tr>\n",
       "    <tr>\n",
       "      <th>1</th>\n",
       "      <td>0.05</td>\n",
       "      <td>100.0</td>\n",
       "      <td>0.189460</td>\n",
       "      <td>0.071882</td>\n",
       "      <td>0.291981</td>\n",
       "    </tr>\n",
       "    <tr>\n",
       "      <th>2</th>\n",
       "      <td>0.01</td>\n",
       "      <td>100.0</td>\n",
       "      <td>0.154003</td>\n",
       "      <td>0.071264</td>\n",
       "      <td>0.224043</td>\n",
       "    </tr>\n",
       "    <tr>\n",
       "      <th>3</th>\n",
       "      <td>0.10</td>\n",
       "      <td>200.0</td>\n",
       "      <td>0.159375</td>\n",
       "      <td>0.013675</td>\n",
       "      <td>0.319463</td>\n",
       "    </tr>\n",
       "    <tr>\n",
       "      <th>4</th>\n",
       "      <td>0.05</td>\n",
       "      <td>200.0</td>\n",
       "      <td>0.179154</td>\n",
       "      <td>0.040355</td>\n",
       "      <td>0.303014</td>\n",
       "    </tr>\n",
       "    <tr>\n",
       "      <th>5</th>\n",
       "      <td>0.01</td>\n",
       "      <td>200.0</td>\n",
       "      <td>0.179019</td>\n",
       "      <td>0.077190</td>\n",
       "      <td>0.270255</td>\n",
       "    </tr>\n",
       "    <tr>\n",
       "      <th>6</th>\n",
       "      <td>0.10</td>\n",
       "      <td>300.0</td>\n",
       "      <td>0.143191</td>\n",
       "      <td>-0.021440</td>\n",
       "      <td>0.294647</td>\n",
       "    </tr>\n",
       "    <tr>\n",
       "      <th>7</th>\n",
       "      <td>0.05</td>\n",
       "      <td>300.0</td>\n",
       "      <td>0.165812</td>\n",
       "      <td>0.013923</td>\n",
       "      <td>0.315004</td>\n",
       "    </tr>\n",
       "    <tr>\n",
       "      <th>8</th>\n",
       "      <td>0.01</td>\n",
       "      <td>300.0</td>\n",
       "      <td>0.186075</td>\n",
       "      <td>0.077703</td>\n",
       "      <td>0.275379</td>\n",
       "    </tr>\n",
       "    <tr>\n",
       "      <th>9</th>\n",
       "      <td>0.10</td>\n",
       "      <td>400.0</td>\n",
       "      <td>0.133154</td>\n",
       "      <td>-0.051430</td>\n",
       "      <td>0.304834</td>\n",
       "    </tr>\n",
       "    <tr>\n",
       "      <th>10</th>\n",
       "      <td>0.05</td>\n",
       "      <td>400.0</td>\n",
       "      <td>0.157554</td>\n",
       "      <td>0.001490</td>\n",
       "      <td>0.306718</td>\n",
       "    </tr>\n",
       "    <tr>\n",
       "      <th>11</th>\n",
       "      <td>0.01</td>\n",
       "      <td>400.0</td>\n",
       "      <td>0.187917</td>\n",
       "      <td>0.074927</td>\n",
       "      <td>0.286038</td>\n",
       "    </tr>\n",
       "  </tbody>\n",
       "</table>\n",
       "</div>"
      ],
      "text/plain": [
       "    learning_rate  n_estimators        r2     5%_CI    95%_CI\n",
       "0            0.10         100.0  0.178286  0.042642  0.322877\n",
       "1            0.05         100.0  0.189460  0.071882  0.291981\n",
       "2            0.01         100.0  0.154003  0.071264  0.224043\n",
       "3            0.10         200.0  0.159375  0.013675  0.319463\n",
       "4            0.05         200.0  0.179154  0.040355  0.303014\n",
       "5            0.01         200.0  0.179019  0.077190  0.270255\n",
       "6            0.10         300.0  0.143191 -0.021440  0.294647\n",
       "7            0.05         300.0  0.165812  0.013923  0.315004\n",
       "8            0.01         300.0  0.186075  0.077703  0.275379\n",
       "9            0.10         400.0  0.133154 -0.051430  0.304834\n",
       "10           0.05         400.0  0.157554  0.001490  0.306718\n",
       "11           0.01         400.0  0.187917  0.074927  0.286038"
      ]
     },
     "execution_count": 23,
     "metadata": {},
     "output_type": "execute_result"
    }
   ],
   "source": [
    "r2_df"
   ]
  },
  {
   "cell_type": "markdown",
   "metadata": {},
   "source": [
    "We get the better results for lerning rate = 0.05 and 100 estimators"
   ]
  },
  {
   "cell_type": "code",
   "execution_count": 24,
   "metadata": {},
   "outputs": [],
   "source": [
    "best_parameters = r2_df.iloc[r2_df['r2'].idxmax()]"
   ]
  },
  {
   "cell_type": "code",
   "execution_count": 25,
   "metadata": {},
   "outputs": [],
   "source": [
    "model = GradientBoostingRegressor(n_estimators=int(best_parameters['n_estimators']), learning_rate=best_parameters['learning_rate'])"
   ]
  },
  {
   "cell_type": "code",
   "execution_count": 26,
   "metadata": {},
   "outputs": [
    {
     "name": "stdout",
     "output_type": "stream",
     "text": [
      "Value of R2 with Optimum prameters: 0.2017\n"
     ]
    }
   ],
   "source": [
    "model.fit(joined_albums_train.drop(['score'], inplace=False, axis=1), joined_albums_train['score'])\n",
    "y_pred = model.predict(joined_albums_test.drop(['score'], inplace=False, axis=1))\n",
    "r2_grad_random = r2_score(joined_albums_test['score'], y_pred)\n",
    "print('Value of R2 with Optimum prameters: {:.4f}'.format(r2_grad_random))"
   ]
  },
  {
   "cell_type": "markdown",
   "metadata": {},
   "source": [
    "#### 4.4\n",
    "\n",
    "It is hard to compare those two scenarios since we do not train model with the same sample. In the previous task we split our data in way such that it was two different kinds of data. Here the data are randomly split in two different groups. We can then assume that our training and testing sample are more similar. \n",
    "\n",
    "Furthermore the samples do not have the same size or even proportionality. We have here a training set with 70% of the data. In the previous task, there was more data in the testing set than in the training one.\n",
    "\n",
    "To fairly compare the two setups, we should test them on the same samples."
   ]
  },
  {
   "cell_type": "markdown",
   "metadata": {},
   "source": [
    "## Part 2: Second Album Syndrome\n",
    "\n",
    "Your second project at *Piccardi Music* is to shed light on one of the business's oldest enigmas: the \"second album syndrome.\" In a nutshell, the \"second album syndrome\" is a theory that states that the second album of a band always sucks. ([Related read](https://tvtropes.org/pmwiki/pmwiki.php/Main/SophomoreSlump))\n",
    "\n",
    "Assume—for the purpose of this task—that the Pitchfork data contains all albums for all artists it covers (even though this might not be true in reality)."
   ]
  },
  {
   "cell_type": "markdown",
   "metadata": {
    "pycharm": {
     "name": "#%% md\n"
    }
   },
   "source": [
    "**Task 5 (Preliminary analyses — 8 pts)**\n",
    "\n",
    "You begin by carrying out some preliminary data processing and analyses.\n",
    "\n",
    "1. Create a new dataframe (from the original data with duplicates dropped, the same as you obtained after finishing Task 1.1) containing only albums from artists with two or more albums and where the release year is not empty.\n",
    "2. Create a new column `album_number` which indicates how many albums the artist has produced before this one (before the second album, the artist has already produced one album).\n",
    "3. Calculate the mean and the standard error fo the mean of the scores of the first and second albums in the dataset. Additionally, plot the two distributions. \n",
    "4. Use an appropriate method to determine if the difference in means of 1st and 2nd albums is statistically significant?\n",
    "5. **Discuss:** Do these analyses suggest that the \"second album syndrome\" exists?\n",
    "\n",
    "---"
   ]
  },
  {
   "cell_type": "markdown",
   "metadata": {},
   "source": [
    "#### 5.1"
   ]
  },
  {
   "cell_type": "code",
   "execution_count": 27,
   "metadata": {},
   "outputs": [
    {
     "data": {
      "text/html": [
       "<div>\n",
       "<style scoped>\n",
       "    .dataframe tbody tr th:only-of-type {\n",
       "        vertical-align: middle;\n",
       "    }\n",
       "\n",
       "    .dataframe tbody tr th {\n",
       "        vertical-align: top;\n",
       "    }\n",
       "\n",
       "    .dataframe thead th {\n",
       "        text-align: right;\n",
       "    }\n",
       "</style>\n",
       "<table border=\"1\" class=\"dataframe\">\n",
       "  <thead>\n",
       "    <tr style=\"text-align: right;\">\n",
       "      <th></th>\n",
       "      <th>artist</th>\n",
       "      <th>album</th>\n",
       "      <th>reviewauthor</th>\n",
       "      <th>score</th>\n",
       "      <th>releaseyear</th>\n",
       "      <th>reviewdate</th>\n",
       "      <th>recordlabel</th>\n",
       "      <th>genre</th>\n",
       "      <th>danceability</th>\n",
       "      <th>energy</th>\n",
       "      <th>key</th>\n",
       "      <th>loudness</th>\n",
       "      <th>speechiness</th>\n",
       "      <th>acousticness</th>\n",
       "      <th>instrumentalness</th>\n",
       "      <th>liveness</th>\n",
       "      <th>valence</th>\n",
       "      <th>tempo</th>\n",
       "    </tr>\n",
       "  </thead>\n",
       "  <tbody>\n",
       "    <tr>\n",
       "      <th>1497</th>\n",
       "      <td>Thelonious Monk</td>\n",
       "      <td>Monk’s Music</td>\n",
       "      <td>Ben Ratliff</td>\n",
       "      <td>9.1</td>\n",
       "      <td>1957.0</td>\n",
       "      <td>March 12 2017</td>\n",
       "      <td>Riverside</td>\n",
       "      <td>Jazz</td>\n",
       "      <td>0.496125</td>\n",
       "      <td>0.145211</td>\n",
       "      <td>6.50</td>\n",
       "      <td>-18.9690</td>\n",
       "      <td>0.04955</td>\n",
       "      <td>0.763875</td>\n",
       "      <td>0.232469</td>\n",
       "      <td>0.118913</td>\n",
       "      <td>0.356538</td>\n",
       "      <td>114.39750</td>\n",
       "    </tr>\n",
       "    <tr>\n",
       "      <th>618</th>\n",
       "      <td>Ornette Coleman</td>\n",
       "      <td>This Is Our Music</td>\n",
       "      <td>Mark Richardson</td>\n",
       "      <td>9.4</td>\n",
       "      <td>1960.0</td>\n",
       "      <td>March 25 2002</td>\n",
       "      <td>Atlantic</td>\n",
       "      <td>Jazz</td>\n",
       "      <td>0.235900</td>\n",
       "      <td>0.574500</td>\n",
       "      <td>3.50</td>\n",
       "      <td>-8.3975</td>\n",
       "      <td>0.03217</td>\n",
       "      <td>0.039747</td>\n",
       "      <td>0.390400</td>\n",
       "      <td>0.178600</td>\n",
       "      <td>0.249100</td>\n",
       "      <td>134.27530</td>\n",
       "    </tr>\n",
       "    <tr>\n",
       "      <th>10987</th>\n",
       "      <td>Françoise Hardy</td>\n",
       "      <td>Tous Les Garçons Et Les Filles</td>\n",
       "      <td>Hazel Cills</td>\n",
       "      <td>8.6</td>\n",
       "      <td>1962.0</td>\n",
       "      <td>October 21 2015</td>\n",
       "      <td>Light in the Attic</td>\n",
       "      <td>Pop/R&amp;B</td>\n",
       "      <td>0.361000</td>\n",
       "      <td>0.512000</td>\n",
       "      <td>9.00</td>\n",
       "      <td>-7.9020</td>\n",
       "      <td>0.02790</td>\n",
       "      <td>0.867000</td>\n",
       "      <td>0.002370</td>\n",
       "      <td>0.146000</td>\n",
       "      <td>0.150000</td>\n",
       "      <td>160.03700</td>\n",
       "    </tr>\n",
       "    <tr>\n",
       "      <th>7887</th>\n",
       "      <td>Ornette Coleman</td>\n",
       "      <td>Ornette!</td>\n",
       "      <td>Alex Linhardt</td>\n",
       "      <td>8.8</td>\n",
       "      <td>1962.0</td>\n",
       "      <td>March 11 2004</td>\n",
       "      <td>Atlantic</td>\n",
       "      <td>Jazz</td>\n",
       "      <td>0.523800</td>\n",
       "      <td>0.356200</td>\n",
       "      <td>6.00</td>\n",
       "      <td>-16.0876</td>\n",
       "      <td>0.04454</td>\n",
       "      <td>0.644000</td>\n",
       "      <td>0.178235</td>\n",
       "      <td>0.284580</td>\n",
       "      <td>0.692800</td>\n",
       "      <td>128.11720</td>\n",
       "    </tr>\n",
       "    <tr>\n",
       "      <th>14546</th>\n",
       "      <td>The Beatles</td>\n",
       "      <td>With the Beatles</td>\n",
       "      <td>Tom Ewing</td>\n",
       "      <td>8.8</td>\n",
       "      <td>1963.0</td>\n",
       "      <td>September 8 2009</td>\n",
       "      <td>EMI</td>\n",
       "      <td>Rock</td>\n",
       "      <td>0.563800</td>\n",
       "      <td>0.164580</td>\n",
       "      <td>4.95</td>\n",
       "      <td>-16.8513</td>\n",
       "      <td>0.05846</td>\n",
       "      <td>0.976250</td>\n",
       "      <td>0.915350</td>\n",
       "      <td>0.109595</td>\n",
       "      <td>0.377100</td>\n",
       "      <td>128.44195</td>\n",
       "    </tr>\n",
       "  </tbody>\n",
       "</table>\n",
       "</div>"
      ],
      "text/plain": [
       "                artist                           album     reviewauthor  \\\n",
       "1497   Thelonious Monk                    Monk’s Music      Ben Ratliff   \n",
       "618    Ornette Coleman               This Is Our Music  Mark Richardson   \n",
       "10987  Françoise Hardy  Tous Les Garçons Et Les Filles      Hazel Cills   \n",
       "7887   Ornette Coleman                        Ornette!    Alex Linhardt   \n",
       "14546      The Beatles                With the Beatles        Tom Ewing   \n",
       "\n",
       "       score  releaseyear        reviewdate         recordlabel    genre  \\\n",
       "1497     9.1       1957.0     March 12 2017           Riverside     Jazz   \n",
       "618      9.4       1960.0     March 25 2002            Atlantic     Jazz   \n",
       "10987    8.6       1962.0   October 21 2015  Light in the Attic  Pop/R&B   \n",
       "7887     8.8       1962.0     March 11 2004            Atlantic     Jazz   \n",
       "14546    8.8       1963.0  September 8 2009                 EMI     Rock   \n",
       "\n",
       "       danceability    energy   key  loudness  speechiness  acousticness  \\\n",
       "1497       0.496125  0.145211  6.50  -18.9690      0.04955      0.763875   \n",
       "618        0.235900  0.574500  3.50   -8.3975      0.03217      0.039747   \n",
       "10987      0.361000  0.512000  9.00   -7.9020      0.02790      0.867000   \n",
       "7887       0.523800  0.356200  6.00  -16.0876      0.04454      0.644000   \n",
       "14546      0.563800  0.164580  4.95  -16.8513      0.05846      0.976250   \n",
       "\n",
       "       instrumentalness  liveness   valence      tempo  \n",
       "1497           0.232469  0.118913  0.356538  114.39750  \n",
       "618            0.390400  0.178600  0.249100  134.27530  \n",
       "10987          0.002370  0.146000  0.150000  160.03700  \n",
       "7887           0.178235  0.284580  0.692800  128.11720  \n",
       "14546          0.915350  0.109595  0.377100  128.44195  "
      ]
     },
     "execution_count": 27,
     "metadata": {},
     "output_type": "execute_result"
    }
   ],
   "source": [
    "albums = pd.read_csv(data_path, compression=\"gzip\")\n",
    "albums.drop_duplicates(subset=['artist', 'album'], keep='first', inplace=True)\n",
    "albums.dropna(subset=[\"releaseyear\"])\n",
    "\n",
    "artist_vc = albums['artist'].value_counts()\n",
    "albums = albums.loc[albums['artist'].isin(artist_vc[artist_vc > 1].index)].sort_values('releaseyear')\n",
    "albums.head()"
   ]
  },
  {
   "cell_type": "markdown",
   "metadata": {},
   "source": [
    "#### 5.2"
   ]
  },
  {
   "cell_type": "code",
   "execution_count": 28,
   "metadata": {},
   "outputs": [],
   "source": [
    "albums['album_number'] = 0\n",
    "artist_dict = dict.fromkeys(albums['artist'], 0)\n",
    "for i, row  in albums.iterrows():\n",
    "    albums.at[i, 'album_number'] = artist_dict[row['artist']]\n",
    "    artist_dict[row['artist']] = artist_dict[row['artist']] +1"
   ]
  },
  {
   "cell_type": "markdown",
   "metadata": {},
   "source": [
    "#### 5.3"
   ]
  },
  {
   "cell_type": "code",
   "execution_count": 29,
   "metadata": {},
   "outputs": [
    {
     "name": "stdout",
     "output_type": "stream",
     "text": [
      "First Album\n",
      "Mean : 7.30   ;   STD : 1.24\n",
      "\n",
      "Second Album\n",
      "Mean : 7.04   ;   STD : 1.27\n"
     ]
    },
    {
     "data": {
      "image/png": "[encoded data removed]",
      "text/plain": [
       "<Figure size 1296x576 with 2 Axes>"
      ]
     },
     "metadata": {
      "needs_background": "light"
     },
     "output_type": "display_data"
    }
   ],
   "source": [
    "def mean_std(df, col):\n",
    "    print(\"Mean : {:.2f}   ;   STD : {:.2f}\".format(df[col].mean(), df[col].std()))\n",
    "\n",
    "def nth_album(df, n):\n",
    "    return df.loc[df['album_number'] == n]\n",
    "\n",
    "first_album = nth_album(albums, 0)\n",
    "second_album = nth_album(albums, 1)\n",
    "\n",
    "print(\"First Album\")\n",
    "mean_std(first_album, 'score')\n",
    "print(\"\\nSecond Album\")\n",
    "mean_std(second_album, 'score')\n",
    "\n",
    "plt.figure(figsize=(18,8))\n",
    "ax1=sns.boxplot(x=first_album['score'], ax=plt.subplot(1, 2, 1))\n",
    "ax2=sns.boxplot(x=second_album['score'], ax=plt.subplot(1, 2, 2))\n",
    "ax1.set_title('first album')\n",
    "ax2.set_title('second album')\n",
    "plt.show()"
   ]
  },
  {
   "cell_type": "markdown",
   "metadata": {},
   "source": [
    "#### 5.4"
   ]
  },
  {
   "cell_type": "markdown",
   "metadata": {},
   "source": [
    "According to the central limit theorem, means of samples from a dataset with a finite variance will approximate a normal distribution, even though the samples do not necessarily follow a normal distribution. \n",
    "\n",
    "As we have far more than 50 data points we are in the context of the central limit theorem, so the t-test is appropriated for our task."
   ]
  },
  {
   "cell_type": "code",
   "execution_count": 30,
   "metadata": {
    "scrolled": true
   },
   "outputs": [
    {
     "data": {
      "text/plain": [
       "Ttest_indResult(statistic=8.6801150888397, pvalue=4.843510495814596e-18)"
      ]
     },
     "execution_count": 30,
     "metadata": {},
     "output_type": "execute_result"
    }
   ],
   "source": [
    "ttest_ind(first_album['score'], second_album['score'])"
   ]
  },
  {
   "cell_type": "markdown",
   "metadata": {},
   "source": [
    "#### 5.5\n",
    "\n",
    "Our test shows that there is a statistically significant difference between the scores of the first and the second album.  \n",
    "\n",
    "Since the mean value of the second album is lower than the first one, this suggests that the second album is indeed worst than the first one and that the second album syndrome exists."
   ]
  },
  {
   "cell_type": "markdown",
   "metadata": {},
   "source": [
    "**Task 6 (Regression analysis — 20 pts)**\n",
    "\n",
    "Next, you proceed to examine some hypotheses about the \"second album syndrome\" using a regression framework. Namely:\n",
    "\n",
    "- The **time spent hypothesis:**  the first album usually has a couple of years of development under its belt and plenty of trial and error from live concerts to help the band determine what does or doesn't work. The second album, on the other hand, is often made in a rush.\n",
    "\n",
    "- The **style change hypothesis:** bands often try to change their style after their first album. This change is not always welcomed by the listeners.\n",
    "\n",
    "1. Create a new dataframe containing one row per 1st-2nd album pair. The dataframe should contain rows:\n",
    "    - `score_diff`: the difference in scores between the second and the first album (second - first).\n",
    "    - `time_diff`: the number of days elapsed between the first and the second album.\n",
    "    - `did_style_change`: a dummy variable that indicates whether the style of the music has changed. To obtain it, first, calculate the [standardized euclidean distance](https://docs.scipy.org/doc/scipy/reference/generated/scipy.spatial.distance.seuclidean.html) of music-related numerical features¹ between the second and the first album. Second, assign 1 to the 20% most distant 1st-2nd album pairs and 0 to all others.\n",
    "2. Fit a linear regression using `statsmodels` with this dataframe. Your regression should consider only an intercept, i.e., `\"score_diff ~ 1\"`.\n",
    "3. **Discuss:** Interpret the $R^2$ in your regression here. Does this analysis confirm what you observed in Task 5? Why?\n",
    "4. Include the `time_diff` and `did_style_change` as covariates in your model. Fit the regression again and report the summary of your model. \n",
    "5. **Discuss:** Interpret the coefficients `time_diff` and `did_style_change`. Carefully explain whether they provide evidence towards each of the aforementioned hypotheses? Do they rule out other reasons that may cause the \"second album syndrome effect\"?\n",
    "6. Create a new column called `time_diff_standardized`. It should be a standardized version of the `time_diff` column. Repeat the regression done in 6.4 using the `time_diff_standardized` column instead of the `time_diff` column.\n",
    "7. **Discuss:** Explain how the interpretation of the coefficients associated with this new column `time_diff_standardized` differ from its non-standardized version \n",
    "`time_diff`?\n",
    "\n",
    "--- \n",
    "\n",
    "**¹** Music related numerical features are:  \"key\", \"acousticness\", \"danceability\", \"energy\", \"instrumentalness\", \"liveness\", \"loudness\", \"speechiness\", \"valence\", and \"tempo\".\n"
   ]
  },
  {
   "cell_type": "markdown",
   "metadata": {},
   "source": [
    "#### 6.1"
   ]
  },
  {
   "cell_type": "code",
   "execution_count": 31,
   "metadata": {},
   "outputs": [
    {
     "data": {
      "text/html": [
       "<div>\n",
       "<style scoped>\n",
       "    .dataframe tbody tr th:only-of-type {\n",
       "        vertical-align: middle;\n",
       "    }\n",
       "\n",
       "    .dataframe tbody tr th {\n",
       "        vertical-align: top;\n",
       "    }\n",
       "\n",
       "    .dataframe thead th {\n",
       "        text-align: right;\n",
       "    }\n",
       "</style>\n",
       "<table border=\"1\" class=\"dataframe\">\n",
       "  <thead>\n",
       "    <tr style=\"text-align: right;\">\n",
       "      <th></th>\n",
       "      <th>artist</th>\n",
       "      <th>did_style_change</th>\n",
       "      <th>time_diff</th>\n",
       "      <th>score_diff</th>\n",
       "    </tr>\n",
       "  </thead>\n",
       "  <tbody>\n",
       "    <tr>\n",
       "      <th>0</th>\n",
       "      <td>Thelonious Monk</td>\n",
       "      <td>0</td>\n",
       "      <td>21900.0</td>\n",
       "      <td>-0.4</td>\n",
       "    </tr>\n",
       "    <tr>\n",
       "      <th>1</th>\n",
       "      <td>Ornette Coleman</td>\n",
       "      <td>0</td>\n",
       "      <td>730.0</td>\n",
       "      <td>-0.6</td>\n",
       "    </tr>\n",
       "    <tr>\n",
       "      <th>2</th>\n",
       "      <td>Françoise Hardy</td>\n",
       "      <td>1</td>\n",
       "      <td>20440.0</td>\n",
       "      <td>-2.1</td>\n",
       "    </tr>\n",
       "    <tr>\n",
       "      <th>3</th>\n",
       "      <td>The Beatles</td>\n",
       "      <td>0</td>\n",
       "      <td>0.0</td>\n",
       "      <td>0.7</td>\n",
       "    </tr>\n",
       "    <tr>\n",
       "      <th>4</th>\n",
       "      <td>James Brown</td>\n",
       "      <td>0</td>\n",
       "      <td>14600.0</td>\n",
       "      <td>-1.4</td>\n",
       "    </tr>\n",
       "  </tbody>\n",
       "</table>\n",
       "</div>"
      ],
      "text/plain": [
       "            artist  did_style_change  time_diff  score_diff\n",
       "0  Thelonious Monk                 0    21900.0        -0.4\n",
       "1  Ornette Coleman                 0      730.0        -0.6\n",
       "2  Françoise Hardy                 1    20440.0        -2.1\n",
       "3      The Beatles                 0        0.0         0.7\n",
       "4      James Brown                 0    14600.0        -1.4"
      ]
     },
     "execution_count": 31,
     "metadata": {},
     "output_type": "execute_result"
    }
   ],
   "source": [
    "album_pair = pd.merge(first_album, second_album, on=\"artist\")\n",
    "album_pair['score_diff'] = album_pair['score_y'] - album_pair['score_x']\n",
    "album_pair['time_diff']= (album_pair['releaseyear_y'] - album_pair['releaseyear_x']) * 365\n",
    "style_feat = [ \"key\", \"acousticness\", \"danceability\", \n",
    "              \"energy\", \"instrumentalness\", \"liveness\", \n",
    "              \"loudness\", \"speechiness\", \"valence\", \"tempo\"]\n",
    "style_feat_x = [\"{}_x\".format(x) for x in style_feat]\n",
    "style_feat_y = [\"{}_y\".format(y) for y in style_feat]\n",
    "\n",
    "distance = euclidean_distances(album_pair[style_feat_x], album_pair[style_feat_y])\n",
    "distance = distance.diagonal()\n",
    "distance_min = pd.Series(distance).nlargest(int(len(distance)*0.2)).min()\n",
    "\n",
    "album_pair['distance'] = distance\n",
    "album_pair['did_style_change'] = album_pair.apply(lambda x: 1 if x['distance'] > distance_min else 0 , axis=1)\n",
    "album_pair= album_pair [['artist', 'did_style_change', 'time_diff', 'score_diff']]\n",
    "\n",
    "album_pair.head()"
   ]
  },
  {
   "cell_type": "markdown",
   "metadata": {},
   "source": [
    "#### 6.2"
   ]
  },
  {
   "cell_type": "code",
   "execution_count": 32,
   "metadata": {},
   "outputs": [
    {
     "data": {
      "text/html": [
       "<table class=\"simpletable\">\n",
       "<caption>OLS Regression Results</caption>\n",
       "<tr>\n",
       "  <th>Dep. Variable:</th>       <td>score_diff</td>    <th>  R-squared:         </th> <td>   0.000</td> \n",
       "</tr>\n",
       "<tr>\n",
       "  <th>Model:</th>                   <td>OLS</td>       <th>  Adj. R-squared:    </th> <td>   0.000</td> \n",
       "</tr>\n",
       "<tr>\n",
       "  <th>Method:</th>             <td>Least Squares</td>  <th>  F-statistic:       </th> <td>     nan</td> \n",
       "</tr>\n",
       "<tr>\n",
       "  <th>Date:</th>             <td>Fri, 26 Nov 2021</td> <th>  Prob (F-statistic):</th>  <td>   nan</td>  \n",
       "</tr>\n",
       "<tr>\n",
       "  <th>Time:</th>                 <td>17:28:58</td>     <th>  Log-Likelihood:    </th> <td> -6202.6</td> \n",
       "</tr>\n",
       "<tr>\n",
       "  <th>No. Observations:</th>      <td>  3564</td>      <th>  AIC:               </th> <td>1.241e+04</td>\n",
       "</tr>\n",
       "<tr>\n",
       "  <th>Df Residuals:</th>          <td>  3563</td>      <th>  BIC:               </th> <td>1.241e+04</td>\n",
       "</tr>\n",
       "<tr>\n",
       "  <th>Df Model:</th>              <td>     0</td>      <th>                     </th>     <td> </td>    \n",
       "</tr>\n",
       "<tr>\n",
       "  <th>Covariance Type:</th>      <td>nonrobust</td>    <th>                     </th>     <td> </td>    \n",
       "</tr>\n",
       "</table>\n",
       "<table class=\"simpletable\">\n",
       "<tr>\n",
       "      <td></td>         <th>coef</th>     <th>std err</th>      <th>t</th>      <th>P>|t|</th>  <th>[0.025</th>    <th>0.975]</th>  \n",
       "</tr>\n",
       "<tr>\n",
       "  <th>Intercept</th> <td>   -0.2579</td> <td>    0.023</td> <td>  -11.161</td> <td> 0.000</td> <td>   -0.303</td> <td>   -0.213</td>\n",
       "</tr>\n",
       "</table>\n",
       "<table class=\"simpletable\">\n",
       "<tr>\n",
       "  <th>Omnibus:</th>       <td>402.611</td> <th>  Durbin-Watson:     </th> <td>   1.897</td>\n",
       "</tr>\n",
       "<tr>\n",
       "  <th>Prob(Omnibus):</th> <td> 0.000</td>  <th>  Jarque-Bera (JB):  </th> <td>2233.136</td>\n",
       "</tr>\n",
       "<tr>\n",
       "  <th>Skew:</th>          <td>-0.391</td>  <th>  Prob(JB):          </th> <td>    0.00</td>\n",
       "</tr>\n",
       "<tr>\n",
       "  <th>Kurtosis:</th>      <td> 6.798</td>  <th>  Cond. No.          </th> <td>    1.00</td>\n",
       "</tr>\n",
       "</table><br/><br/>Notes:<br/>[1] Standard Errors assume that the covariance matrix of the errors is correctly specified."
      ],
      "text/plain": [
       "<class 'statsmodels.iolib.summary.Summary'>\n",
       "\"\"\"\n",
       "                            OLS Regression Results                            \n",
       "==============================================================================\n",
       "Dep. Variable:             score_diff   R-squared:                       0.000\n",
       "Model:                            OLS   Adj. R-squared:                  0.000\n",
       "Method:                 Least Squares   F-statistic:                       nan\n",
       "Date:                Fri, 26 Nov 2021   Prob (F-statistic):                nan\n",
       "Time:                        17:28:58   Log-Likelihood:                -6202.6\n",
       "No. Observations:                3564   AIC:                         1.241e+04\n",
       "Df Residuals:                    3563   BIC:                         1.241e+04\n",
       "Df Model:                           0                                         \n",
       "Covariance Type:            nonrobust                                         \n",
       "==============================================================================\n",
       "                 coef    std err          t      P>|t|      [0.025      0.975]\n",
       "------------------------------------------------------------------------------\n",
       "Intercept     -0.2579      0.023    -11.161      0.000      -0.303      -0.213\n",
       "==============================================================================\n",
       "Omnibus:                      402.611   Durbin-Watson:                   1.897\n",
       "Prob(Omnibus):                  0.000   Jarque-Bera (JB):             2233.136\n",
       "Skew:                          -0.391   Prob(JB):                         0.00\n",
       "Kurtosis:                       6.798   Cond. No.                         1.00\n",
       "==============================================================================\n",
       "\n",
       "Notes:\n",
       "[1] Standard Errors assume that the covariance matrix of the errors is correctly specified.\n",
       "\"\"\""
      ]
     },
     "execution_count": 32,
     "metadata": {},
     "output_type": "execute_result"
    }
   ],
   "source": [
    "model = smf.ols(formula='score_diff ~ 1', data=album_pair)\n",
    "res = model.fit()\n",
    "res.summary()"
   ]
  },
  {
   "cell_type": "markdown",
   "metadata": {},
   "source": [
    "#### 6.3"
   ]
  },
  {
   "cell_type": "markdown",
   "metadata": {},
   "source": [
    "In this model without parameters, the bias of this model is negative so the second album tends to be worse than the first one. However, the $R^2$ score has a value of 0. This means that none of the variance in the dataset is being explained, so there must be some variable explaining the drop in album score."
   ]
  },
  {
   "cell_type": "markdown",
   "metadata": {},
   "source": [
    "#### 6.4 "
   ]
  },
  {
   "cell_type": "code",
   "execution_count": 33,
   "metadata": {},
   "outputs": [
    {
     "data": {
      "text/html": [
       "<table class=\"simpletable\">\n",
       "<caption>OLS Regression Results</caption>\n",
       "<tr>\n",
       "  <th>Dep. Variable:</th>       <td>score_diff</td>    <th>  R-squared:         </th> <td>   0.019</td> \n",
       "</tr>\n",
       "<tr>\n",
       "  <th>Model:</th>                   <td>OLS</td>       <th>  Adj. R-squared:    </th> <td>   0.018</td> \n",
       "</tr>\n",
       "<tr>\n",
       "  <th>Method:</th>             <td>Least Squares</td>  <th>  F-statistic:       </th> <td>   34.56</td> \n",
       "</tr>\n",
       "<tr>\n",
       "  <th>Date:</th>             <td>Fri, 26 Nov 2021</td> <th>  Prob (F-statistic):</th> <td>1.37e-15</td> \n",
       "</tr>\n",
       "<tr>\n",
       "  <th>Time:</th>                 <td>17:28:58</td>     <th>  Log-Likelihood:    </th> <td> -6168.3</td> \n",
       "</tr>\n",
       "<tr>\n",
       "  <th>No. Observations:</th>      <td>  3564</td>      <th>  AIC:               </th> <td>1.234e+04</td>\n",
       "</tr>\n",
       "<tr>\n",
       "  <th>Df Residuals:</th>          <td>  3561</td>      <th>  BIC:               </th> <td>1.236e+04</td>\n",
       "</tr>\n",
       "<tr>\n",
       "  <th>Df Model:</th>              <td>     2</td>      <th>                     </th>     <td> </td>    \n",
       "</tr>\n",
       "<tr>\n",
       "  <th>Covariance Type:</th>      <td>nonrobust</td>    <th>                     </th>     <td> </td>    \n",
       "</tr>\n",
       "</table>\n",
       "<table class=\"simpletable\">\n",
       "<tr>\n",
       "              <td></td>                <th>coef</th>     <th>std err</th>      <th>t</th>      <th>P>|t|</th>  <th>[0.025</th>    <th>0.975]</th>  \n",
       "</tr>\n",
       "<tr>\n",
       "  <th>Intercept</th>                <td>   -0.1483</td> <td>    0.030</td> <td>   -5.019</td> <td> 0.000</td> <td>   -0.206</td> <td>   -0.090</td>\n",
       "</tr>\n",
       "<tr>\n",
       "  <th>C(did_style_change)[T.1]</th> <td>    0.0602</td> <td>    0.057</td> <td>    1.052</td> <td> 0.293</td> <td>   -0.052</td> <td>    0.173</td>\n",
       "</tr>\n",
       "<tr>\n",
       "  <th>time_diff</th>                <td>-9.264e-05</td> <td> 1.12e-05</td> <td>   -8.244</td> <td> 0.000</td> <td>   -0.000</td> <td>-7.06e-05</td>\n",
       "</tr>\n",
       "</table>\n",
       "<table class=\"simpletable\">\n",
       "<tr>\n",
       "  <th>Omnibus:</th>       <td>369.830</td> <th>  Durbin-Watson:     </th> <td>   1.922</td>\n",
       "</tr>\n",
       "<tr>\n",
       "  <th>Prob(Omnibus):</th> <td> 0.000</td>  <th>  Jarque-Bera (JB):  </th> <td>2080.507</td>\n",
       "</tr>\n",
       "<tr>\n",
       "  <th>Skew:</th>          <td>-0.326</td>  <th>  Prob(JB):          </th> <td>    0.00</td>\n",
       "</tr>\n",
       "<tr>\n",
       "  <th>Kurtosis:</th>      <td> 6.686</td>  <th>  Cond. No.          </th> <td>6.22e+03</td>\n",
       "</tr>\n",
       "</table><br/><br/>Notes:<br/>[1] Standard Errors assume that the covariance matrix of the errors is correctly specified.<br/>[2] The condition number is large, 6.22e+03. This might indicate that there are<br/>strong multicollinearity or other numerical problems."
      ],
      "text/plain": [
       "<class 'statsmodels.iolib.summary.Summary'>\n",
       "\"\"\"\n",
       "                            OLS Regression Results                            \n",
       "==============================================================================\n",
       "Dep. Variable:             score_diff   R-squared:                       0.019\n",
       "Model:                            OLS   Adj. R-squared:                  0.018\n",
       "Method:                 Least Squares   F-statistic:                     34.56\n",
       "Date:                Fri, 26 Nov 2021   Prob (F-statistic):           1.37e-15\n",
       "Time:                        17:28:58   Log-Likelihood:                -6168.3\n",
       "No. Observations:                3564   AIC:                         1.234e+04\n",
       "Df Residuals:                    3561   BIC:                         1.236e+04\n",
       "Df Model:                           2                                         \n",
       "Covariance Type:            nonrobust                                         \n",
       "============================================================================================\n",
       "                               coef    std err          t      P>|t|      [0.025      0.975]\n",
       "--------------------------------------------------------------------------------------------\n",
       "Intercept                   -0.1483      0.030     -5.019      0.000      -0.206      -0.090\n",
       "C(did_style_change)[T.1]     0.0602      0.057      1.052      0.293      -0.052       0.173\n",
       "time_diff                -9.264e-05   1.12e-05     -8.244      0.000      -0.000   -7.06e-05\n",
       "==============================================================================\n",
       "Omnibus:                      369.830   Durbin-Watson:                   1.922\n",
       "Prob(Omnibus):                  0.000   Jarque-Bera (JB):             2080.507\n",
       "Skew:                          -0.326   Prob(JB):                         0.00\n",
       "Kurtosis:                       6.686   Cond. No.                     6.22e+03\n",
       "==============================================================================\n",
       "\n",
       "Notes:\n",
       "[1] Standard Errors assume that the covariance matrix of the errors is correctly specified.\n",
       "[2] The condition number is large, 6.22e+03. This might indicate that there are\n",
       "strong multicollinearity or other numerical problems.\n",
       "\"\"\""
      ]
     },
     "execution_count": 33,
     "metadata": {},
     "output_type": "execute_result"
    }
   ],
   "source": [
    "model = smf.ols(formula='score_diff ~ time_diff + C(did_style_change)', data=album_pair)\n",
    "res = model.fit()\n",
    "res.summary()"
   ]
  },
  {
   "cell_type": "markdown",
   "metadata": {},
   "source": [
    "#### 6.5\n",
    "\n",
    "The time_diff coefficient is negative, which can be interpreted as score decreasing the longer the wait between albums. This could be explained by fans getting \"hyped\" and enhancing the memory of the first album through \"nostalgia goggles\". It is however very small, so its effect isn't major. The value of the did_style_change coefficient is positive, so an album that has a different style generally performs better than the first one. However, the p-value associated with this coefficient is superior to 0.05, so this influence could be due to chance.\n",
    "\n",
    "The $R^2$ score is now 0.019, so there still are missing variables in predicting the score to explain the variance."
   ]
  },
  {
   "cell_type": "markdown",
   "metadata": {},
   "source": [
    "#### 6.6"
   ]
  },
  {
   "cell_type": "code",
   "execution_count": 34,
   "metadata": {},
   "outputs": [
    {
     "data": {
      "text/html": [
       "<table class=\"simpletable\">\n",
       "<caption>OLS Regression Results</caption>\n",
       "<tr>\n",
       "  <th>Dep. Variable:</th>       <td>score_diff</td>    <th>  R-squared:         </th> <td>   0.019</td> \n",
       "</tr>\n",
       "<tr>\n",
       "  <th>Model:</th>                   <td>OLS</td>       <th>  Adj. R-squared:    </th> <td>   0.018</td> \n",
       "</tr>\n",
       "<tr>\n",
       "  <th>Method:</th>             <td>Least Squares</td>  <th>  F-statistic:       </th> <td>   34.56</td> \n",
       "</tr>\n",
       "<tr>\n",
       "  <th>Date:</th>             <td>Fri, 26 Nov 2021</td> <th>  Prob (F-statistic):</th> <td>1.37e-15</td> \n",
       "</tr>\n",
       "<tr>\n",
       "  <th>Time:</th>                 <td>17:28:58</td>     <th>  Log-Likelihood:    </th> <td> -6168.3</td> \n",
       "</tr>\n",
       "<tr>\n",
       "  <th>No. Observations:</th>      <td>  3564</td>      <th>  AIC:               </th> <td>1.234e+04</td>\n",
       "</tr>\n",
       "<tr>\n",
       "  <th>Df Residuals:</th>          <td>  3561</td>      <th>  BIC:               </th> <td>1.236e+04</td>\n",
       "</tr>\n",
       "<tr>\n",
       "  <th>Df Model:</th>              <td>     2</td>      <th>                     </th>     <td> </td>    \n",
       "</tr>\n",
       "<tr>\n",
       "  <th>Covariance Type:</th>      <td>nonrobust</td>    <th>                     </th>     <td> </td>    \n",
       "</tr>\n",
       "</table>\n",
       "<table class=\"simpletable\">\n",
       "<tr>\n",
       "              <td></td>                <th>coef</th>     <th>std err</th>      <th>t</th>      <th>P>|t|</th>  <th>[0.025</th>    <th>0.975]</th>  \n",
       "</tr>\n",
       "<tr>\n",
       "  <th>Intercept</th>                <td>   -0.2699</td> <td>    0.026</td> <td>  -10.549</td> <td> 0.000</td> <td>   -0.320</td> <td>   -0.220</td>\n",
       "</tr>\n",
       "<tr>\n",
       "  <th>C(did_style_change)[T.1]</th> <td>    0.0602</td> <td>    0.057</td> <td>    1.052</td> <td> 0.293</td> <td>   -0.052</td> <td>    0.173</td>\n",
       "</tr>\n",
       "<tr>\n",
       "  <th>time_diff_standardized</th>   <td>   -0.1887</td> <td>    0.023</td> <td>   -8.244</td> <td> 0.000</td> <td>   -0.234</td> <td>   -0.144</td>\n",
       "</tr>\n",
       "</table>\n",
       "<table class=\"simpletable\">\n",
       "<tr>\n",
       "  <th>Omnibus:</th>       <td>369.830</td> <th>  Durbin-Watson:     </th> <td>   1.922</td>\n",
       "</tr>\n",
       "<tr>\n",
       "  <th>Prob(Omnibus):</th> <td> 0.000</td>  <th>  Jarque-Bera (JB):  </th> <td>2080.507</td>\n",
       "</tr>\n",
       "<tr>\n",
       "  <th>Skew:</th>          <td>-0.326</td>  <th>  Prob(JB):          </th> <td>    0.00</td>\n",
       "</tr>\n",
       "<tr>\n",
       "  <th>Kurtosis:</th>      <td> 6.686</td>  <th>  Cond. No.          </th> <td>    2.62</td>\n",
       "</tr>\n",
       "</table><br/><br/>Notes:<br/>[1] Standard Errors assume that the covariance matrix of the errors is correctly specified."
      ],
      "text/plain": [
       "<class 'statsmodels.iolib.summary.Summary'>\n",
       "\"\"\"\n",
       "                            OLS Regression Results                            \n",
       "==============================================================================\n",
       "Dep. Variable:             score_diff   R-squared:                       0.019\n",
       "Model:                            OLS   Adj. R-squared:                  0.018\n",
       "Method:                 Least Squares   F-statistic:                     34.56\n",
       "Date:                Fri, 26 Nov 2021   Prob (F-statistic):           1.37e-15\n",
       "Time:                        17:28:58   Log-Likelihood:                -6168.3\n",
       "No. Observations:                3564   AIC:                         1.234e+04\n",
       "Df Residuals:                    3561   BIC:                         1.236e+04\n",
       "Df Model:                           2                                         \n",
       "Covariance Type:            nonrobust                                         \n",
       "============================================================================================\n",
       "                               coef    std err          t      P>|t|      [0.025      0.975]\n",
       "--------------------------------------------------------------------------------------------\n",
       "Intercept                   -0.2699      0.026    -10.549      0.000      -0.320      -0.220\n",
       "C(did_style_change)[T.1]     0.0602      0.057      1.052      0.293      -0.052       0.173\n",
       "time_diff_standardized      -0.1887      0.023     -8.244      0.000      -0.234      -0.144\n",
       "==============================================================================\n",
       "Omnibus:                      369.830   Durbin-Watson:                   1.922\n",
       "Prob(Omnibus):                  0.000   Jarque-Bera (JB):             2080.507\n",
       "Skew:                          -0.326   Prob(JB):                         0.00\n",
       "Kurtosis:                       6.686   Cond. No.                         2.62\n",
       "==============================================================================\n",
       "\n",
       "Notes:\n",
       "[1] Standard Errors assume that the covariance matrix of the errors is correctly specified.\n",
       "\"\"\""
      ]
     },
     "execution_count": 34,
     "metadata": {},
     "output_type": "execute_result"
    }
   ],
   "source": [
    "album_pair['time_diff_standardized'] = (album_pair['time_diff'] - album_pair['time_diff'].mean())/album_pair['time_diff'].std()\n",
    "\n",
    "model = smf.ols(formula='score_diff ~ time_diff_standardized + C(did_style_change)', data=album_pair)\n",
    "res = model.fit()\n",
    "res.summary()"
   ]
  },
  {
   "cell_type": "markdown",
   "metadata": {},
   "source": [
    "#### 6.7 \n",
    "\n",
    "For the time_diff coeff, the results suggest that the longer you take to release your second album, the more your score drops. For the standardized version, if your second album releases sooner than the average, your  score is higher.\n",
    "\n",
    "The difference could be explained by the fact that there are remastered albums in the dataset with very large time_diff values. The standardized version thus handles better this distribution.\n"
   ]
  },
  {
   "cell_type": "markdown",
   "metadata": {
    "pycharm": {
     "name": "#%% md\n"
    }
   },
   "source": [
    "**Task 7 (Sanity checks — 6 pts)**\n",
    "\n",
    "You decide to perform a few last sanity checks for your analysis.\n",
    "\n",
    "1.  **Discuss:** If the Second Album Syndrome existed, i.e., something was special about the second album (as in if it was bad for a very particular reason that afflicted album number 2 more than all others), what would you expect to happen to the mean score of the third album?\n",
    "2. Using the dataset you created in Task 5, calculate the mean and the standard error of the mean for the 1st, 2nd, 3rd, and 4th albums. Test whether the difference between the average score of the second and the third album is statistically significant.\n",
    "3. **Discuss:** Does this suggest that the Second Album Syndrome exists?\n",
    "\n",
    "---\n"
   ]
  },
  {
   "cell_type": "markdown",
   "metadata": {},
   "source": [
    "#### 7.1\n",
    "\n",
    "We would expect the mean score of the third album to be greater than the mean score of the second album, because we suppose that some particular reasons impacted the second album."
   ]
  },
  {
   "cell_type": "markdown",
   "metadata": {},
   "source": [
    "#### 7.2"
   ]
  },
  {
   "cell_type": "code",
   "execution_count": 35,
   "metadata": {},
   "outputs": [
    {
     "name": "stdout",
     "output_type": "stream",
     "text": [
      "Album n° 1    Mean : 7.30   ;   STD : 1.24\n",
      "Album n° 2    Mean : 7.04   ;   STD : 1.27\n",
      "Album n° 3    Mean : 7.05   ;   STD : 1.22\n",
      "Album n° 4    Mean : 7.04   ;   STD : 1.23\n"
     ]
    },
    {
     "data": {
      "text/plain": [
       "Ttest_indResult(statistic=0.13167355054277005, pvalue=0.895250980626538)"
      ]
     },
     "execution_count": 35,
     "metadata": {},
     "output_type": "execute_result"
    }
   ],
   "source": [
    "for i in range (0,4):\n",
    "    print(\"Album n°\", i+1, end='    ')\n",
    "    mean_std(nth_album(albums, i), 'score')\n",
    "    \n",
    "ttest_ind(nth_album(albums, 2)['score'], nth_album(albums, 3)['score'])"
   ]
  },
  {
   "cell_type": "markdown",
   "metadata": {},
   "source": [
    "#### 7.3\n",
    "\n",
    "The T-test gives a **p-value ~ 0.9 > 0.05**. So we can not reject the null hypothesis that states that \"The difference between the average score of the second and the third album is statistically significant\" .\n",
    "\n",
    "To conclude, this doesn't suggest that the Second Album Syndrome exists."
   ]
  },
  {
   "cell_type": "markdown",
   "metadata": {},
   "source": [
    "**Task 8 (Eureka — 14 pts)**\n",
    "\n",
    "Your boss, *Signor Piccardi*, proposes that you carry out a simulation to make things clearer. Assuming that:\n",
    "\n",
    "\n",
    "- Each band $i$ has a \"talent\" $\\mu_i$ , which is uniformally distributed between 2 and 8, i.e., $\\mu_i \\sim U_{[2,8]}$.\n",
    "- When a band $i$ produces an album $j$, it has quality $s_j$. This score is normally distributed with mean $\\mu_i$ and standard deviation $1$, i.e., $s_j \\sim N(\\mu_i, 1)$\n",
    "- Talents are independent and identically distributed random variables.\n",
    " \n",
    "Carry out the following simulation:\n",
    "\n",
    "- Create 1000 hypothetical bands with intrinsic talents $\\mu_i \\sim U_{[2,8]}$ for $i \\in [1,1000]$.\n",
    "- Have each hypothetical band create a hypothetical album.\n",
    "- Discard all bands whose albums received a score smaller than 6.\n",
    "- For each of the remaining bands, create two additional albums.\n",
    "\n",
    "Analyzing the scores obtained in this simulation, provide a coherent explanation for the  scores obtained in Task 7.2. \n",
    "\n",
    "--- \n",
    "\n",
    "**Hint:** You can use numpy to sample random variables (e.g. [numpy.random.normal](https://numpy.org/doc/stable/reference/random/generated/numpy.random.normal.html))"
   ]
  },
  {
   "cell_type": "code",
   "execution_count": 36,
   "metadata": {},
   "outputs": [
    {
     "name": "stdout",
     "output_type": "stream",
     "text": [
      "Album 1 mean and std over the whole set : \n",
      "Mean : 4.93   ;   STD : 1.98\n",
      "\n",
      "\n",
      "Number of bands left: 334\n",
      "\n",
      "After keeping bands that released an album with a score greater or equal to 6 :\n",
      "Album n°1)   Mean : 7.18   ;   STD : 0.83\n",
      "Album n°2)   Mean : 6.60   ;   STD : 1.33\n",
      "Album n°3)   Mean : 6.61   ;   STD : 1.32\n",
      "\n",
      "\n",
      "The mean of band talent used to be 4.95 but is now 6.73 after we cut 'worse' bands.\n"
     ]
    }
   ],
   "source": [
    "bands = pd.DataFrame(np.random.uniform(low=2, high=8, size=1000), columns=['band_talent'])\n",
    "bands['album_1'] = bands.apply(lambda x: np.random.normal(x))\n",
    "old_mean = bands['band_talent'].mean()\n",
    "print(\"Album 1 mean and std over the whole set : \")\n",
    "mean_std(bands, 'album_1')\n",
    "bands = bands.loc[bands['album_1']>=6]\n",
    "print(\"\\n\")\n",
    "print(\"Number of bands left: {}\\n\".format(len(bands)))\n",
    "bands['album_2'] = bands.apply(lambda x: np.random.normal(x['band_talent']), axis=1)\n",
    "bands['album_3'] = bands.apply(lambda x: np.random.normal(x['band_talent']), axis=1)\n",
    "\n",
    "print(\"After keeping bands that released an album with a score greater or equal to 6 :\")\n",
    "print(\"Album n°1)\", end='   ')\n",
    "mean_std(bands, 'album_1')\n",
    "print(\"Album n°2)\", end='   ')\n",
    "mean_std(bands, 'album_2')\n",
    "print(\"Album n°3)\", end='   ')\n",
    "mean_std(bands, 'album_3')\n",
    "print(\"\\n\")\n",
    "\n",
    "print(\"The mean of band talent used to be {:.2f} but is now {:.2f} after we cut 'worse' bands.\".format(old_mean, bands['band_talent'].mean()))"
   ]
  },
  {
   "cell_type": "markdown",
   "metadata": {},
   "source": [
    "#### Discussion : \n",
    "\n",
    "As we can see, even on generated data the second album tends to be worse than the first one. All subsequent albums tend to have similar scores to the second one. This could be explained by the fact that we only keep bands that made an album with a score superior to 6. In real life, this could be caused by bands not pursuing a career in music if their first album 'bombs'. When filtering the bands to keep after the first album, we only keep bands that released an album within their talent range and bands that made an album way above their base talent. The phenomenon we observed is a regression to the mean, in which after an extreme result for a random variable the next sample tends to be closer to the mean. This is illustrated by the fact that the mean of selected band talents is around 6.7, which is close to the 2nd and 3rd album but far below the 1st one."
   ]
  }
 ],
 "metadata": {
  "kernelspec": {
   "display_name": "Python 3",
   "language": "python",
   "name": "python3"
  },
  "language_info": {
   "codemirror_mode": {
    "name": "ipython",
    "version": 3
   },
   "file_extension": ".py",
   "mimetype": "text/x-python",
   "name": "python",
   "nbconvert_exporter": "python",
   "pygments_lexer": "ipython3",
   "version": "3.8.8"
  },
  "pycharm": {
   "stem_cell": {
    "cell_type": "raw",
    "metadata": {
     "collapsed": false
    },
    "source": []
   }
  }
 },
 "nbformat": 4,
 "nbformat_minor": 4
}
